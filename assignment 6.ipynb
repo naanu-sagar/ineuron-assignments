{
 "cells": [
  {
   "cell_type": "code",
   "execution_count": null,
   "id": "e6687d89-b9b1-4def-acd1-6fb81aaae77c",
   "metadata": {},
   "outputs": [],
   "source": [
    "#question 1\n",
    "To insert characters that are illegal in a string, use an escape character.\n",
    "\n",
    "An escape character is a backslash \\ followed by the character you want to insert."
   ]
  },
  {
   "cell_type": "code",
   "execution_count": null,
   "id": "676591f0-0470-49a8-96eb-9f89a3a71f85",
   "metadata": {},
   "outputs": [],
   "source": [
    "#question 2\n",
    "\n",
    "\\n->new line\n",
    "\\t->Tab"
   ]
  },
  {
   "cell_type": "code",
   "execution_count": null,
   "id": "4480ce27-5a20-4391-880a-c0b863f0ae4d",
   "metadata": {},
   "outputs": [],
   "source": [
    "#question 3\n",
    "using double back slash \\\\"
   ]
  },
  {
   "cell_type": "code",
   "execution_count": null,
   "id": "94190233-f0fa-4dd0-9e51-79f8c81d84c8",
   "metadata": {},
   "outputs": [],
   "source": [
    "#question 4\n",
    "The single quote in Howl's is fine because you've used double quotes to mark the beginning and end of the string.\n"
   ]
  },
  {
   "cell_type": "code",
   "execution_count": 3,
   "id": "42ca0b65-9ecc-461d-8bf6-42bd93437f58",
   "metadata": {},
   "outputs": [
    {
     "name": "stdout",
     "output_type": "stream",
     "text": [
      " hello\n",
      "hi\n"
     ]
    }
   ],
   "source": [
    "#question 5\n",
    "using triple quotation\n",
    "print(\"\"\" hello\n",
    "hi\"\"\")"
   ]
  },
  {
   "cell_type": "code",
   "execution_count": null,
   "id": "f054416b-7a92-4b12-a17f-81ae1de2fa1f",
   "metadata": {},
   "outputs": [],
   "source": [
    "#question 6\n",
    "Hello\n",
    "Hello\n",
    "lo world!"
   ]
  },
  {
   "cell_type": "code",
   "execution_count": 4,
   "id": "09b1e370-266b-4433-a139-fd4a2d7c9fd1",
   "metadata": {},
   "outputs": [
    {
     "ename": "NameError",
     "evalue": "name 'HELLO' is not defined",
     "output_type": "error",
     "traceback": [
      "\u001b[0;31m---------------------------------------------------------------------------\u001b[0m",
      "\u001b[0;31mNameError\u001b[0m                                 Traceback (most recent call last)",
      "Cell \u001b[0;32mIn [4], line 2\u001b[0m\n\u001b[1;32m      1\u001b[0m \u001b[38;5;66;03m#question 7\u001b[39;00m\n\u001b[0;32m----> 2\u001b[0m \u001b[43mHELLO\u001b[49m\n\u001b[1;32m      3\u001b[0m \u001b[38;5;28;01mFalse\u001b[39;00m\n",
      "\u001b[0;31mNameError\u001b[0m: name 'HELLO' is not defined"
     ]
    }
   ],
   "source": [
    "#question 7\n",
    "HELLO\n",
    "True\n",
    "hello\n"
   ]
  },
  {
   "cell_type": "code",
   "execution_count": null,
   "id": "9ebb8bb3-eb23-4a3e-91d9-e4dd944becdc",
   "metadata": {},
   "outputs": [],
   "source": [
    "#question 8\n",
    "['Remember,', 'remember,', 'the', 'fifth', 'of', 'November.']\n",
    "\n",
    "'There-can-be-only-one."
   ]
  },
  {
   "cell_type": "code",
   "execution_count": null,
   "id": "83bd65df-a6ff-4d2e-9149-cd511fb0d670",
   "metadata": {},
   "outputs": [],
   "source": [
    "#question 9\n",
    "The rjust(), ljust(), and center() string methods, respectively"
   ]
  },
  {
   "cell_type": "code",
   "execution_count": null,
   "id": "28d1941b-e8f9-46c6-94d5-785b878922f3",
   "metadata": {},
   "outputs": [],
   "source": [
    "#question 10\n",
    "The lstrip() and rstrip() methods remove whitespace from the left and right ends of a string, respectively."
   ]
  }
 ],
 "metadata": {
  "kernelspec": {
   "display_name": "Python 3 (ipykernel)",
   "language": "python",
   "name": "python3"
  },
  "language_info": {
   "codemirror_mode": {
    "name": "ipython",
    "version": 3
   },
   "file_extension": ".py",
   "mimetype": "text/x-python",
   "name": "python",
   "nbconvert_exporter": "python",
   "pygments_lexer": "ipython3",
   "version": "3.10.6"
  }
 },
 "nbformat": 4,
 "nbformat_minor": 5
}
