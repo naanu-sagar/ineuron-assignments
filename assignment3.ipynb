{
 "cells": [
  {
   "cell_type": "code",
   "execution_count": null,
   "id": "ec057110-115f-4d0b-9785-ce8100249235",
   "metadata": {},
   "outputs": [],
   "source": [
    "#question1\n",
    "Functions reduce the need for duplicate code. \n",
    "This makes programs shorter, easier to read, and easier to update and promotes code reusability"
   ]
  },
  {
   "cell_type": "code",
   "execution_count": null,
   "id": "1151867f-4bcb-4a6a-bf23-259a5f707777",
   "metadata": {},
   "outputs": [],
   "source": [
    "#question2\n",
    "\n",
    "when it is called"
   ]
  },
  {
   "cell_type": "code",
   "execution_count": null,
   "id": "48029229-d72f-4022-b975-fc8fe5cfcf04",
   "metadata": {},
   "outputs": [],
   "source": [
    "#question3\n",
    "\n",
    "def"
   ]
  },
  {
   "cell_type": "code",
   "execution_count": null,
   "id": "a84d5b14-997c-4e7e-9c0b-f1478e21fa5e",
   "metadata": {},
   "outputs": [],
   "source": [
    "#question4\n",
    "A function is a block of code that does a particular operation and returns a result.\n",
    "It usually accepts inputs as parameters and returns a result. \n",
    "\n",
    "Function call is the process of using the available function"
   ]
  },
  {
   "cell_type": "code",
   "execution_count": null,
   "id": "e5607fe8-3098-4c24-a2af-5d468b215ce9",
   "metadata": {},
   "outputs": [],
   "source": [
    "#question5\n",
    "there are 4 type of scopes in python local, enclosing, global, and built-in"
   ]
  },
  {
   "cell_type": "code",
   "execution_count": null,
   "id": "b4441ce1-4d7c-49ce-a0d5-101b3977c9cf",
   "metadata": {},
   "outputs": [],
   "source": [
    "#question6\n",
    "When the execution of the function returns, the local variables are destroyed."
   ]
  },
  {
   "cell_type": "code",
   "execution_count": null,
   "id": "fff9a945-f1db-40ee-bfe4-051c705dd846",
   "metadata": {},
   "outputs": [],
   "source": [
    "#question7\n",
    "A return is a value that a function returns to the calling script or function when it completes its task.\n",
    "A return value can be any one of the four variable types: handle, integer, object, or string.\n",
    "yes it possible to have a return value in an expression"
   ]
  },
  {
   "cell_type": "code",
   "execution_count": null,
   "id": "c0fdc649-dd80-4fdd-9424-2259c9bf3316",
   "metadata": {},
   "outputs": [],
   "source": [
    "#question8\n",
    "If no return statement appears in a function definition,\n",
    "control automatically returns to the calling function after the last statement of the called function is executed. \n",
    "In this case, the return value of the called function is undefined."
   ]
  },
  {
   "cell_type": "code",
   "execution_count": null,
   "id": "432464d4-722c-43c7-9fac-13e4633234ee",
   "metadata": {},
   "outputs": [],
   "source": [
    "#question9\n",
    "\n",
    "by using the keybord global before the variable name"
   ]
  },
  {
   "cell_type": "code",
   "execution_count": null,
   "id": "559a8453-f7f8-4108-8c48-4737534c65a8",
   "metadata": {},
   "outputs": [],
   "source": [
    "#questio10\n",
    "\n",
    "NoneType"
   ]
  },
  {
   "cell_type": "code",
   "execution_count": null,
   "id": "18fa8275-3166-449d-a1b0-ed48ddbf5eef",
   "metadata": {},
   "outputs": [],
   "source": [
    "#questio11\n",
    "\n",
    "it imports the library areallyourpetsnamederic and gives us access to functions in that library"
   ]
  },
  {
   "cell_type": "code",
   "execution_count": null,
   "id": "df082f00-1fb6-4b32-ab73-682eb9a79e66",
   "metadata": {},
   "outputs": [],
   "source": [
    "#questio12\n",
    "\n",
    "spam.bacon() to call the function"
   ]
  },
  {
   "cell_type": "code",
   "execution_count": null,
   "id": "cdbd4911-a763-40f8-b5b7-34e77de3d0c0",
   "metadata": {},
   "outputs": [],
   "source": [
    "#questio13\n",
    "error handeling"
   ]
  },
  {
   "cell_type": "code",
   "execution_count": null,
   "id": "778c4358-9939-4aa9-9115-24c41390ae26",
   "metadata": {},
   "outputs": [],
   "source": [
    "#questio14\n",
    "The try block lets you test a block of code for errors. The except block lets you handle the error."
   ]
  }
 ],
 "metadata": {
  "kernelspec": {
   "display_name": "Python 3 (ipykernel)",
   "language": "python",
   "name": "python3"
  },
  "language_info": {
   "codemirror_mode": {
    "name": "ipython",
    "version": 3
   },
   "file_extension": ".py",
   "mimetype": "text/x-python",
   "name": "python",
   "nbconvert_exporter": "python",
   "pygments_lexer": "ipython3",
   "version": "3.10.6"
  }
 },
 "nbformat": 4,
 "nbformat_minor": 5
}
