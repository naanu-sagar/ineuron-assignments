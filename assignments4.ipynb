{
 "cells": [
  {
   "cell_type": "code",
   "execution_count": null,
   "id": "33a87b7f-c697-4fc4-bbaf-864ed06fb54f",
   "metadata": {},
   "outputs": [],
   "source": [
    "#question1\n",
    "[] is used to store a list \n",
    "Lists are used to store multiple items in a single variable"
   ]
  },
  {
   "cell_type": "code",
   "execution_count": null,
   "id": "9151765c-a690-47c8-b5d2-edacc5694907",
   "metadata": {},
   "outputs": [],
   "source": [
    "#question2\n",
    "spam[2] = 'hello'"
   ]
  },
  {
   "cell_type": "code",
   "execution_count": null,
   "id": "97506478-b21f-44c7-b49d-54d6234d6cf5",
   "metadata": {},
   "outputs": [],
   "source": [
    "#question3\n",
    "spam[int(int('3' * 2) / 11)] = 'c'"
   ]
  },
  {
   "cell_type": "code",
   "execution_count": null,
   "id": "402b1a4c-97a0-4603-9a12-ef3e823f9cb3",
   "metadata": {},
   "outputs": [],
   "source": [
    "#question4\n",
    "spam[-1] = 'd'"
   ]
  },
  {
   "cell_type": "code",
   "execution_count": null,
   "id": "42aabdde-01b8-4ce1-b4a3-839a66ad0ca1",
   "metadata": {},
   "outputs": [],
   "source": [
    "#question5\n",
    "spam[:2] = ['a','b']"
   ]
  },
  {
   "cell_type": "code",
   "execution_count": null,
   "id": "3e1c016c-b082-4bd9-9c8a-64e3e6f09e7a",
   "metadata": {},
   "outputs": [],
   "source": [
    "#question6\n",
    "bacon.index('cat')=1"
   ]
  },
  {
   "cell_type": "code",
   "execution_count": null,
   "id": "f446cfdc-c69a-4a64-b01e-4c05ae599c00",
   "metadata": {},
   "outputs": [],
   "source": [
    "#question7\n",
    "bacon=[3.14, 'cat',11, 'cat', True,99]\n",
    "bacon.remove('cat')=[3.14, 11, 'cat', True, 99]\n"
   ]
  },
  {
   "cell_type": "code",
   "execution_count": null,
   "id": "4b4cf509-75ec-4598-814b-3f320d38157a",
   "metadata": {},
   "outputs": [],
   "source": [
    "#question8\n",
    "bacon.remove('cat')=[3.14, 11, 'cat', True, 99]"
   ]
  },
  {
   "cell_type": "code",
   "execution_count": null,
   "id": "d4a67262-cb54-4f0b-ad6a-e6056f4d7ac4",
   "metadata": {},
   "outputs": [],
   "source": [
    "#question9\n",
    "\n",
    "list concatination is done using + operator\n",
    "list replication is done useng * operator"
   ]
  },
  {
   "cell_type": "code",
   "execution_count": null,
   "id": "1a304299-d1ed-492c-9786-a3223f8f39d6",
   "metadata": {},
   "outputs": [],
   "source": [
    "#question10\n",
    "append() inserts the new element at the end of the list\n",
    "insert() take 2 arguments index and element, index is to tell at which inext the element is to be inserted \n",
    "example \n",
    "a.insert(2,\"hello\")"
   ]
  },
  {
   "cell_type": "code",
   "execution_count": null,
   "id": "47223de4-cbd2-43d1-ac53-55e630c7434a",
   "metadata": {},
   "outputs": [],
   "source": [
    "#question11\n",
    "list.pop()\n",
    "list.remove()"
   ]
  },
  {
   "cell_type": "code",
   "execution_count": null,
   "id": "1e6ad28c-7a39-49b7-b525-32e974311a14",
   "metadata": {},
   "outputs": [],
   "source": [
    "#question12\n",
    "Both string and list have indexing \n",
    "both string and list have splitting function \n",
    "both have length function \n"
   ]
  },
  {
   "cell_type": "code",
   "execution_count": null,
   "id": "1e31986d-cfa6-4877-b371-3a39b444cbd6",
   "metadata": {},
   "outputs": [],
   "source": [
    "#question13\n",
    "tulep is immutable and list is mutable"
   ]
  },
  {
   "cell_type": "code",
   "execution_count": 21,
   "id": "1bdfa9e2-b430-428a-b93a-c593e7b3e6de",
   "metadata": {},
   "outputs": [],
   "source": [
    "#question14\n",
    "\n",
    "a= (42,)\n",
    "\n"
   ]
  },
  {
   "cell_type": "code",
   "execution_count": 25,
   "id": "8337c190-7d00-41ce-879d-4891e3676316",
   "metadata": {},
   "outputs": [],
   "source": [
    "#question15\n",
    "\n",
    "b=(1,2,4,5)\n",
    "b=list(b)\n",
    "b=tuple(b)\n"
   ]
  },
  {
   "cell_type": "code",
   "execution_count": null,
   "id": "f81b4426-4e42-4791-a2b6-3e74a3d434e5",
   "metadata": {},
   "outputs": [],
   "source": [
    "#question16\n",
    "elements"
   ]
  },
  {
   "cell_type": "code",
   "execution_count": null,
   "id": "b913adf4-a303-4e0d-9db8-afeb4c9f4bd6",
   "metadata": {},
   "outputs": [],
   "source": [
    "#question17\n",
    "copy() create reference to original object. If you change copied object - you change the original object. .\n",
    "deepcopy() creates new object and does real copying of original object to new one.\n",
    "Changing new deepcopied object doesn't affect original object."
   ]
  }
 ],
 "metadata": {
  "kernelspec": {
   "display_name": "Python 3 (ipykernel)",
   "language": "python",
   "name": "python3"
  },
  "language_info": {
   "codemirror_mode": {
    "name": "ipython",
    "version": 3
   },
   "file_extension": ".py",
   "mimetype": "text/x-python",
   "name": "python",
   "nbconvert_exporter": "python",
   "pygments_lexer": "ipython3",
   "version": "3.10.6"
  }
 },
 "nbformat": 4,
 "nbformat_minor": 5
}
