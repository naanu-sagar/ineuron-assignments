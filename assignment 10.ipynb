{
 "cells": [
  {
   "cell_type": "code",
   "execution_count": null,
   "id": "9f0da2ba-4aa0-4fd2-a387-ced853a3202e",
   "metadata": {},
   "outputs": [],
   "source": [
    "#question 1 \n",
    "shutil.copytree() will copy all the file from source to destination \n",
    "shutil.copy() will just  copy a single file from source to destination\n"
   ]
  },
  {
   "cell_type": "code",
   "execution_count": null,
   "id": "0efd3e78-c23d-4028-be76-688e9ce52b0c",
   "metadata": {},
   "outputs": [],
   "source": [
    "#question 2\n",
    "os.rename()"
   ]
  },
  {
   "cell_type": "code",
   "execution_count": 1,
   "id": "c70b506e-6684-4e1d-80ab-676933004855",
   "metadata": {},
   "outputs": [],
   "source": [
    "#question3\n",
    "The send2trash functions will move a file or folder to the recycle bin, \n",
    "while shutil functions will permanently delete files and folders."
   ]
  },
  {
   "cell_type": "code",
   "execution_count": null,
   "id": "37f1cc66-6a42-4ef2-aa05-e6335fb26369",
   "metadata": {},
   "outputs": [],
   "source": [
    "#question4\n",
    "zipfile.ZipFile()"
   ]
  },
  {
   "cell_type": "code",
   "execution_count": 16,
   "id": "02976980-37db-4ac7-9eac-8669e61b460f",
   "metadata": {},
   "outputs": [
    {
     "name": "stdout",
     "output_type": "stream",
     "text": [
      "test.log\n",
      "<class 'str'>\n",
      "/home/jovyan/work/\n",
      "/home/jovyan/work/test.log\n",
      "test.log\n",
      "<class 'str'>\n",
      "/home/jovyan/work/\n",
      "/home/jovyan/work/test.log\n",
      "test-checkpoint.log\n",
      "<class 'str'>\n",
      "/home/jovyan/work/\n",
      "/home/jovyan/work/test-checkpoint.log\n"
     ]
    }
   ],
   "source": [
    "#question5\n",
    "import os,shutil\n",
    "\n",
    "def search(der,dest,pat):\n",
    "    for foldername, subfolders, filenames in os.walk(der):\n",
    "        for filename in filenames:\n",
    "            if filename.endswith(pat):\n",
    "                print(filename)\n",
    "                print(type(filename))\n",
    "                print(der)\n",
    "                \n",
    "                file=der+str(filename)\n",
    "                print(file)\n",
    "                # shutil.copyfile(file,dest,*,follow_symlinks=True)\n",
    "                \n",
    "                \n",
    "der='/home/jovyan/work/'\n",
    "dest='/home/jovyan/work/Untitled Folder'\n",
    "patt='.log'\n",
    "\n",
    "search(der,dest,patt)                "
   ]
  },
  {
   "cell_type": "code",
   "execution_count": 5,
   "id": "cecc4762-cd0c-4303-bd95-cc7b4f79f405",
   "metadata": {},
   "outputs": [
    {
     "name": "stdout",
     "output_type": "stream",
     "text": [
      "'assignment 10.ipynb'            'programing assignemnt4.ipynb'\n",
      "'assignment 1.ipynb'             'programing assignemnt5.ipynb'\n",
      "'assignment 2.ipynb'             'programing assignemnt6.ipynb'\n",
      " assignment3.ipynb               'programing assignemnt7.ipynb'\n",
      "'assignment 5.ipynb'             'programing assignemnt8.ipynb'\n",
      "'assignment 6.ipynb'             'programing assignemnt9.ipynb'\n",
      "'assignment 9.ipynb'             'Python adv1.ipynb'\n",
      " assignments4.ipynb               README.md\n",
      "'function continued (2).ipynb'    sample-code.ipynb\n",
      "'programing assignemnt10.ipynb'   test.log\n",
      "'programing assignemnt1.ipynb'    un.ipynb\n",
      "'programing assignemnt2.ipynb'   \u001b[0m\u001b[01;34m'Untitled Folder'\u001b[0m/\n",
      "'programing assignemnt3.ipynb'\n"
     ]
    }
   ],
   "source": [
    "ls"
   ]
  },
  {
   "cell_type": "code",
   "execution_count": 4,
   "id": "7059c76f-dd05-4cd6-aedc-536dc57dc511",
   "metadata": {},
   "outputs": [
    {
     "data": {
      "text/plain": [
       "'/home/jovyan/work'"
      ]
     },
     "execution_count": 4,
     "metadata": {},
     "output_type": "execute_result"
    }
   ],
   "source": [
    "pwd\n"
   ]
  },
  {
   "cell_type": "code",
   "execution_count": null,
   "id": "b6b1c1ba-5900-4381-9f6f-639bdc05d6b9",
   "metadata": {},
   "outputs": [],
   "source": []
  }
 ],
 "metadata": {
  "kernelspec": {
   "display_name": "Python 3 (ipykernel)",
   "language": "python",
   "name": "python3"
  },
  "language_info": {
   "codemirror_mode": {
    "name": "ipython",
    "version": 3
   },
   "file_extension": ".py",
   "mimetype": "text/x-python",
   "name": "python",
   "nbconvert_exporter": "python",
   "pygments_lexer": "ipython3",
   "version": "3.10.6"
  }
 },
 "nbformat": 4,
 "nbformat_minor": 5
}
