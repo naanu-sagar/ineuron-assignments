{
 "cells": [
  {
   "cell_type": "code",
   "execution_count": null,
   "id": "49d6af1e-4640-45da-8b2d-f37172593d91",
   "metadata": {},
   "outputs": [],
   "source": [
    "#question1\n",
    "d={}"
   ]
  },
  {
   "cell_type": "code",
   "execution_count": 4,
   "id": "cca694bc-bbc7-470b-a55b-1c24f9e00fa6",
   "metadata": {},
   "outputs": [
    {
     "data": {
      "text/plain": [
       "42"
      ]
     },
     "execution_count": 4,
     "metadata": {},
     "output_type": "execute_result"
    }
   ],
   "source": [
    "#question2\n",
    "d={'foo':42}\n",
    "\n",
    "d['foo']\n"
   ]
  },
  {
   "cell_type": "markdown",
   "id": "a4171778-2bd8-40cb-81b2-2f6bfdec078b",
   "metadata": {},
   "source": [
    "#question3\n",
    "A list refers to a collection of various index value pairs\n",
    "A dictionary refers to a hashed structure of various pairs of keys and values"
   ]
  },
  {
   "cell_type": "code",
   "execution_count": 12,
   "id": "d6e015d7-2830-4d03-b141-6263fc058a53",
   "metadata": {},
   "outputs": [
    {
     "data": {
      "text/plain": [
       "dict_values([100])"
      ]
     },
     "execution_count": 12,
     "metadata": {},
     "output_type": "execute_result"
    }
   ],
   "source": [
    "#question4\n",
    "spam={'bar':100}\n",
    "spam['foo']\n"
   ]
  },
  {
   "cell_type": "code",
   "execution_count": null,
   "id": "26c247ee-e221-45d8-bbdd-148380b957f9",
   "metadata": {},
   "outputs": [],
   "source": [
    "#question5\n",
    "\n",
    "There is no difference. The in operator checks whether a value exists as a key in the dictionary."
   ]
  },
  {
   "cell_type": "code",
   "execution_count": null,
   "id": "e60ea748-1ced-48b1-bc94-0f90b378eee9",
   "metadata": {},
   "outputs": [],
   "source": [
    "#question6\n",
    "'cat' in spam checks whether there is a 'cat' key in the dictionary,\n",
    "while 'cat' in spam.values() checks whether there is a value 'cat' for one of the keys in spam.\n"
   ]
  },
  {
   "cell_type": "code",
   "execution_count": 14,
   "id": "6884c120-53c0-490e-9c1b-be431c6f228a",
   "metadata": {},
   "outputs": [
    {
     "ename": "SyntaxError",
     "evalue": "invalid syntax (3454499943.py, line 1)",
     "output_type": "error",
     "traceback": [
      "\u001b[0;36m  Cell \u001b[0;32mIn [14], line 1\u001b[0;36m\u001b[0m\n\u001b[0;31m    {spam:if color not in spam: spam[color] = 'black'}\u001b[0m\n\u001b[0m          ^\u001b[0m\n\u001b[0;31mSyntaxError\u001b[0m\u001b[0;31m:\u001b[0m invalid syntax\n"
     ]
    }
   ],
   "source": [
    "#question7\n",
    "spam.setdefault('color', 'black')"
   ]
  },
  {
   "cell_type": "code",
   "execution_count": null,
   "id": "7479845a-570b-4d51-9ae3-d8ce61b48e6a",
   "metadata": {},
   "outputs": [],
   "source": [
    "#question8\n",
    "pprint.print()"
   ]
  }
 ],
 "metadata": {
  "kernelspec": {
   "display_name": "Python 3 (ipykernel)",
   "language": "python",
   "name": "python3"
  },
  "language_info": {
   "codemirror_mode": {
    "name": "ipython",
    "version": 3
   },
   "file_extension": ".py",
   "mimetype": "text/x-python",
   "name": "python",
   "nbconvert_exporter": "python",
   "pygments_lexer": "ipython3",
   "version": "3.10.6"
  }
 },
 "nbformat": 4,
 "nbformat_minor": 5
}
