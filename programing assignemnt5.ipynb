{
 "cells": [
  {
   "cell_type": "code",
   "execution_count": 5,
   "id": "6ac517c0-6155-440a-b7b6-cd9d82d18852",
   "metadata": {},
   "outputs": [
    {
     "name": "stdout",
     "output_type": "stream",
     "text": [
      "80\n"
     ]
    }
   ],
   "source": [
    "#question1\n",
    "def lcm_func(x,y):\n",
    "    if x>y:\n",
    "        greater=x\n",
    "    else:\n",
    "        greater=y\n",
    "    \n",
    "    while(True):\n",
    "        if(greater%x==0)and (greater%y==0):\n",
    "            lcm=greater\n",
    "            break\n",
    "        greater+=1\n",
    "    return lcm\n",
    "\n",
    "print(lcm_func(16,5))"
   ]
  },
  {
   "cell_type": "code",
   "execution_count": 8,
   "id": "8263f5af-1814-484d-b206-9d40465bbade",
   "metadata": {},
   "outputs": [
    {
     "name": "stdout",
     "output_type": "stream",
     "text": [
      "6\n"
     ]
    }
   ],
   "source": [
    "#question2\n",
    "def hcf_func(x,y):\n",
    "    if x>y:\n",
    "        smaller=x\n",
    "    else:\n",
    "        smaller=y\n",
    "    \n",
    "    for i in range(1,smaller+1):\n",
    "        if(x%i==0)and (y%i==0):\n",
    "            hcf=i\n",
    "         \n",
    "    return hcf\n",
    "\n",
    "print(hcf_func(54,24))"
   ]
  },
  {
   "cell_type": "code",
   "execution_count": 9,
   "id": "76b824ff-9bae-4a9e-b2bf-066fca12588d",
   "metadata": {},
   "outputs": [
    {
     "name": "stdout",
     "output_type": "stream",
     "text": [
      "The decimal value of 123 is:\n",
      "0b1111011 in binary.\n",
      "0o173 in octal.\n",
      "0x7b in hexadecimal.\n"
     ]
    }
   ],
   "source": [
    "#question3\n",
    "dec = 123\n",
    "\n",
    "print(\"The decimal value of\", dec, \"is:\")\n",
    "print(bin(dec), \"in binary.\")\n",
    "print(oct(dec), \"in octal.\")\n",
    "print(hex(dec), \"in hexadecimal.\")"
   ]
  },
  {
   "cell_type": "code",
   "execution_count": 11,
   "id": "750448a3-3647-4fa6-ac93-f32ecb4cb45a",
   "metadata": {},
   "outputs": [
    {
     "name": "stdout",
     "output_type": "stream",
     "text": [
      "The ASCII value of 't' is 116\n"
     ]
    }
   ],
   "source": [
    "#question4\n",
    "\n",
    "e = 't'\n",
    "print(\"The ASCII value of '\" + e + \"' is\", ord(e))"
   ]
  },
  {
   "cell_type": "code",
   "execution_count": 12,
   "id": "14b88837-e9b0-4b85-b8b8-2fcc6ffb0ad9",
   "metadata": {},
   "outputs": [
    {
     "name": "stdin",
     "output_type": "stream",
     "text": [
      "Enter First Number:  23\n",
      "Enter Second Number:  13\n"
     ]
    },
    {
     "name": "stdout",
     "output_type": "stream",
     "text": [
      "Enter which operation would you like to perform?\n"
     ]
    },
    {
     "name": "stdin",
     "output_type": "stream",
     "text": [
      "Enter any of these char for specific operation +,-,*,/:  -\n"
     ]
    },
    {
     "name": "stdout",
     "output_type": "stream",
     "text": [
      "23 - 13 : 10\n"
     ]
    }
   ],
   "source": [
    "#question5\n",
    "\n",
    "num1 = int(input(\"Enter First Number: \"))\n",
    "num2 = int(input(\"Enter Second Number: \"))\n",
    "\n",
    "print(\"Enter which operation would you like to perform?\")\n",
    "ch = input(\"Enter any of these char for specific operation +,-,*,/: \")\n",
    "\n",
    "result = 0\n",
    "if ch == '+':\n",
    "    result = num1 + num2\n",
    "elif ch == '-':\n",
    "    result = num1 - num2\n",
    "elif ch == '*':\n",
    "    result = num1 * num2\n",
    "elif ch == '/':\n",
    "    result = num1 / num2\n",
    "else:\n",
    "    print(\"Input character is not recognized!\")\n",
    "\n",
    "print(num1, ch , num2, \":\", result)"
   ]
  },
  {
   "cell_type": "code",
   "execution_count": null,
   "id": "02fcaa22-c40e-41c7-a877-771bb5973bfb",
   "metadata": {},
   "outputs": [],
   "source": []
  }
 ],
 "metadata": {
  "kernelspec": {
   "display_name": "Python 3 (ipykernel)",
   "language": "python",
   "name": "python3"
  },
  "language_info": {
   "codemirror_mode": {
    "name": "ipython",
    "version": 3
   },
   "file_extension": ".py",
   "mimetype": "text/x-python",
   "name": "python",
   "nbconvert_exporter": "python",
   "pygments_lexer": "ipython3",
   "version": "3.10.6"
  }
 },
 "nbformat": 4,
 "nbformat_minor": 5
}
