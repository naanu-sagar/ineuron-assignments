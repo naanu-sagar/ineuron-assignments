{
 "cells": [
  {
   "cell_type": "raw",
   "id": "d66ca0ca-f817-4461-b825-764043389913",
   "metadata": {},
   "source": [
    "# question 1\n",
    "True and False \n",
    "a = True and b=False"
   ]
  },
  {
   "cell_type": "code",
   "execution_count": null,
   "id": "a8c64b43-2892-4fa1-804f-209b695d04f5",
   "metadata": {},
   "outputs": [],
   "source": [
    "# question 2\n",
    "AND, OR, and NOT"
   ]
  },
  {
   "cell_type": "raw",
   "id": "97961f3c-fa61-401d-8c67-9db02131c1af",
   "metadata": {},
   "source": [
    "# question 3\n",
    "P\t       Q\tP AND Q\n",
    "TRUE\tTRUE\tTRUE\n",
    "TRUE\tFALSE\tFALSE\n",
    "FALSE\tTRUE\tFALSE\n",
    "FALSE\tFALSE\tFALSE\n",
    "\n",
    "\n",
    "P      \tQ\t   P OR Q\n",
    "TRUE\tTRUE\tTRUE\n",
    "TRUE\tFALSE\tTRUE\n",
    "FALSE\tTRUE\tTRUE\n",
    "FALSE\tFALSE\tFALSE\n",
    "\n",
    "\n",
    "P      NOT P\n",
    "TRUE   FALSE\n",
    "FALSE  TRUE"
   ]
  },
  {
   "cell_type": "code",
   "execution_count": null,
   "id": "6e338e18-4717-4fb4-a81a-a6510e4bd0be",
   "metadata": {},
   "outputs": [],
   "source": [
    "# question 4\n",
    "\n",
    "1) FALSE\n",
    "2) FLASE\n",
    "3) TRUE\n",
    "4) FALSE\n",
    "5) FALSE\n",
    "6) TRUE\n"
   ]
  },
  {
   "cell_type": "code",
   "execution_count": null,
   "id": "97e7051e-5507-448f-80ea-fed6bb17734b",
   "metadata": {},
   "outputs": [],
   "source": [
    "# question 5\n",
    ">\n",
    "<\n",
    ">=\n",
    "<=\n",
    "==\n",
    "!="
   ]
  },
  {
   "cell_type": "code",
   "execution_count": null,
   "id": "7745a1a5-7573-4441-8e66-19cf1da98728",
   "metadata": {},
   "outputs": [],
   "source": [
    "# question 6\n",
    "ASSIGNEMENT OPERATOR WILL USE SINGLE = SYMBOL\n",
    "EQUALS USES DOUBLE == SYMBOL\n",
    "A=10\n",
    "B=10\n",
    "\n",
    "A==B\n"
   ]
  },
  {
   "cell_type": "code",
   "execution_count": null,
   "id": "241f32fe-f161-4bf0-9751-95cc3c463e22",
   "metadata": {},
   "outputs": [],
   "source": [
    "# question 7\n",
    "\n",
    "OUTPUT IS 'ham' 'spam' 'spam'"
   ]
  },
  {
   "cell_type": "code",
   "execution_count": 9,
   "id": "bbf13d4c-dc0d-4b48-a773-1cd7734fd29f",
   "metadata": {},
   "outputs": [
    {
     "name": "stdin",
     "output_type": "stream",
     "text": [
      "enter a number 2\n"
     ]
    },
    {
     "name": "stdout",
     "output_type": "stream",
     "text": [
      "Howdy!\n"
     ]
    }
   ],
   "source": [
    "# question 8\n",
    "\n",
    "spam = int(input(\"enter a number\"))\n",
    "\n",
    "if spam == 1:\n",
    "    print(\"Hello\")\n",
    "elif spam == 2:\n",
    "    print(\"Howdy!\")\n",
    "else:\n",
    "    print(\"Greetings!\")"
   ]
  },
  {
   "cell_type": "code",
   "execution_count": null,
   "id": "637d9777-0c24-45c0-b1a7-663da42d714c",
   "metadata": {},
   "outputs": [],
   "source": [
    "# question 9\n",
    "ctrl + c"
   ]
  },
  {
   "cell_type": "code",
   "execution_count": null,
   "id": "261cfea4-813f-4ffb-b746-9b4ad879171f",
   "metadata": {},
   "outputs": [],
   "source": [
    "# question 10\n",
    "The break statement terminates the whole iteration of a loop whereas continue skips the current iteration\n"
   ]
  },
  {
   "cell_type": "code",
   "execution_count": null,
   "id": "c2d6d3d3-4af1-4f4d-ba27-f1f54e15ceea",
   "metadata": {},
   "outputs": [],
   "source": [
    "# question 11\n",
    "all three will give same output \n",
    "range(10)-> here only stop is defined\n",
    "range(0,10)-> here start and stop is defined \n",
    "range(0,10,1)-> here start stop and step is defined"
   ]
  },
  {
   "cell_type": "code",
   "execution_count": 11,
   "id": "211c0083-cf5f-4498-b004-047b803bc6d9",
   "metadata": {},
   "outputs": [
    {
     "name": "stdout",
     "output_type": "stream",
     "text": [
      "1\n",
      "2\n",
      "3\n",
      "4\n",
      "5\n",
      "6\n",
      "7\n",
      "8\n",
      "9\n",
      "10\n",
      "1\n",
      "2\n",
      "3\n",
      "4\n",
      "5\n",
      "6\n",
      "7\n",
      "8\n",
      "9\n",
      "10\n"
     ]
    }
   ],
   "source": [
    "# question 12\n",
    "for i in range(1,11):\n",
    "    print (i)\n",
    "\n",
    "q=1    \n",
    "while q<=10:\n",
    "    print(q)\n",
    "    q=q+1"
   ]
  },
  {
   "cell_type": "code",
   "execution_count": null,
   "id": "1c0747c6-ce09-4989-93ff-f677d0bcf676",
   "metadata": {},
   "outputs": [],
   "source": [
    "# question 13\n",
    "spam.bacon()"
   ]
  }
 ],
 "metadata": {
  "kernelspec": {
   "display_name": "Python 3 (ipykernel)",
   "language": "python",
   "name": "python3"
  },
  "language_info": {
   "codemirror_mode": {
    "name": "ipython",
    "version": 3
   },
   "file_extension": ".py",
   "mimetype": "text/x-python",
   "name": "python",
   "nbconvert_exporter": "python",
   "pygments_lexer": "ipython3",
   "version": "3.10.6"
  }
 },
 "nbformat": 4,
 "nbformat_minor": 5
}
