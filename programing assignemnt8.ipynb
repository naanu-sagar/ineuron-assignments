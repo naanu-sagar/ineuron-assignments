{
 "cells": [
  {
   "cell_type": "code",
   "execution_count": 1,
   "id": "e1deb31e-8932-4dfe-ae90-b63b6f0a7eb6",
   "metadata": {},
   "outputs": [
    {
     "name": "stdout",
     "output_type": "stream",
     "text": [
      "[[11, 13, 15], [17, 19, 21], [23, 25, 27]]\n"
     ]
    }
   ],
   "source": [
    "#question1\n",
    "a=[[1,2,3],\n",
    "   [4,5,6],\n",
    "   [7,8,9,]]\n",
    "b=[[10,11,12],\n",
    "   [13,14,15],\n",
    "   [16,17,18]]\n",
    "\n",
    "\n",
    "result=[[0,0,0],\n",
    "        [0,0,0],\n",
    "        [0,0,0]]\n",
    "\n",
    "for i in range(len(a)):\n",
    "    for j in range(len(a[0])):\n",
    "        result[i][j]=a[i][j]+b[i][j]\n",
    "        \n",
    "print(result)        "
   ]
  },
  {
   "cell_type": "code",
   "execution_count": 2,
   "id": "8be0ef02-314e-4076-a6ab-9826ff3ab6c2",
   "metadata": {},
   "outputs": [
    {
     "name": "stdout",
     "output_type": "stream",
     "text": [
      "[[10, 22, 36], [52, 70, 90], [112, 136, 162]]\n"
     ]
    }
   ],
   "source": [
    "#question2\n",
    "a=[[1,2,3],\n",
    "   [4,5,6],\n",
    "   [7,8,9,]]\n",
    "b=[[10,11,12],\n",
    "   [13,14,15],\n",
    "   [16,17,18]]\n",
    "\n",
    "\n",
    "result=[[0,0,0],\n",
    "        [0,0,0],\n",
    "        [0,0,0]]\n",
    "\n",
    "for i in range(len(a)):\n",
    "    for j in range(len(a[0])):\n",
    "        result[i][j]=a[i][j]*b[i][j]\n",
    "        \n",
    "print(result)      "
   ]
  },
  {
   "cell_type": "code",
   "execution_count": 3,
   "id": "c134426b-0d0a-439d-8a31-3a5a8f0f475c",
   "metadata": {},
   "outputs": [
    {
     "name": "stdout",
     "output_type": "stream",
     "text": [
      "[12, 4, 3]\n",
      "[7, 5, 8]\n"
     ]
    }
   ],
   "source": [
    "#question3\n",
    "X = [[12,7],\n",
    "    [4 ,5],\n",
    "    [3 ,8]]\n",
    "\n",
    "result = [[0,0,0],\n",
    "         [0,0,0]]\n",
    "\n",
    "\n",
    "for i in range(len(X)):\n",
    "   \n",
    "   for j in range(len(X[0])):\n",
    "       result[j][i] = X[i][j]\n",
    "\n",
    "for r in result:\n",
    "   print(r)\n"
   ]
  },
  {
   "cell_type": "code",
   "execution_count": 12,
   "id": "d71ccd5c-28a8-40a0-9027-84701d0a3fdc",
   "metadata": {},
   "outputs": [
    {
     "name": "stdin",
     "output_type": "stream",
     "text": [
      "Enter a sentance saa slka djlbv \n"
     ]
    },
    {
     "name": "stdout",
     "output_type": "stream",
     "text": [
      "djlbv\n",
      "saa\n",
      "slka\n"
     ]
    }
   ],
   "source": [
    "#question4\n",
    "a=input(\"Enter a sentance\")\n",
    "word=[i.lower() for i in a.split()]\n",
    "\n",
    "word.sort()\n",
    "\n",
    "for q in word:\n",
    "    print(q)\n",
    "    \n"
   ]
  },
  {
   "cell_type": "code",
   "execution_count": null,
   "id": "912269a0-3b56-4f41-b13d-838a9050a0d4",
   "metadata": {},
   "outputs": [],
   "source": [
    "#question5\n",
    "punctuations = '''!()-[]{};:'\"\\,<>./?@#$%^&*_~'''\n",
    "\n",
    "my_str = input(\"Enter a sentance\")\n",
    "\n",
    "no_punct = \"\"\n",
    "for char in my_str:\n",
    "   if char not in punctuations:\n",
    "       no_punct = no_punct + char\n",
    "\n",
    "\n",
    "print(no_punct)"
   ]
  },
  {
   "cell_type": "code",
   "execution_count": null,
   "id": "6005ea47-731d-4c39-aa54-f076713aa3c5",
   "metadata": {},
   "outputs": [],
   "source": []
  }
 ],
 "metadata": {
  "kernelspec": {
   "display_name": "Python 3 (ipykernel)",
   "language": "python",
   "name": "python3"
  },
  "language_info": {
   "codemirror_mode": {
    "name": "ipython",
    "version": 3
   },
   "file_extension": ".py",
   "mimetype": "text/x-python",
   "name": "python",
   "nbconvert_exporter": "python",
   "pygments_lexer": "ipython3",
   "version": "3.10.6"
  }
 },
 "nbformat": 4,
 "nbformat_minor": 5
}
