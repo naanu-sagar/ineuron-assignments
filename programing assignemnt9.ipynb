{
 "cells": [
  {
   "cell_type": "code",
   "execution_count": 3,
   "id": "ae649f33-56a7-4695-8fae-ac442f21ac14",
   "metadata": {},
   "outputs": [
    {
     "name": "stdin",
     "output_type": "stream",
     "text": [
      "Enter a number: 175\n"
     ]
    },
    {
     "name": "stdout",
     "output_type": "stream",
     "text": [
      "it is a Disarium\n"
     ]
    }
   ],
   "source": [
    "#question1\n",
    "a=input(\"Enter a number:\")\n",
    "leng=len(a)\n",
    "c=n=int(a)\n",
    "b=sum=0\n",
    "while(c>0):\n",
    "    b=c%10;\n",
    "    sum=sum+int(b**leng)\n",
    "    c=c//10\n",
    "    leng=leng-1\n",
    "\n",
    "if(sum==n):\n",
    "    print(\"it is a Disarium\")\n",
    "else:\n",
    "    print(\"it is not Disarium\")\n",
    "    \n",
    "    \n"
   ]
  },
  {
   "cell_type": "code",
   "execution_count": 5,
   "id": "1b867a83-0b39-4ae4-a620-e55f5d77b054",
   "metadata": {},
   "outputs": [
    {
     "name": "stdout",
     "output_type": "stream",
     "text": [
      "1 is a Disarium\n",
      "2 is a Disarium\n",
      "3 is a Disarium\n",
      "4 is a Disarium\n",
      "5 is a Disarium\n",
      "6 is a Disarium\n",
      "7 is a Disarium\n",
      "8 is a Disarium\n",
      "9 is a Disarium\n",
      "89 is a Disarium\n"
     ]
    }
   ],
   "source": [
    "#question2\n",
    "\n",
    "for a in range(1,100):\n",
    "    leng=len(str(a))\n",
    "    c=n=int(a)\n",
    "    b=sum=0\n",
    "    while(c>0):\n",
    "        b=c%10;\n",
    "        sum=sum+int(b**leng)\n",
    "        c=c//10\n",
    "        leng=leng-1\n",
    "\n",
    "    if(sum==n):\n",
    "        print(f\"{n} is a Disarium\")\n",
    "    else:\n",
    "        continue\n",
    "    \n",
    "    "
   ]
  },
  {
   "cell_type": "code",
   "execution_count": 2,
   "id": "087429eb-bbe5-464e-8e91-b3501dd9d5ef",
   "metadata": {},
   "outputs": [
    {
     "name": "stdout",
     "output_type": "stream",
     "text": [
      "True\n",
      "True\n",
      "True\n"
     ]
    }
   ],
   "source": [
    "#question3\n",
    "def is_Happy_num(n):\n",
    "  past = set()\n",
    "  while n != 1:\n",
    "        n = sum(int(i)**2 for i in str(n))\n",
    "        if n in past:\n",
    "            return False\n",
    "        past.add(n)\n",
    "  return True\n",
    "print(is_Happy_num(7))\n",
    "print(is_Happy_num(932))\n",
    "print(is_Happy_num(49))\n",
    "    "
   ]
  },
  {
   "cell_type": "code",
   "execution_count": 7,
   "id": "6d173723-d3d7-402c-9013-c88f1b840034",
   "metadata": {},
   "outputs": [
    {
     "name": "stdout",
     "output_type": "stream",
     "text": [
      "1 this is happy\n",
      "7 this is happy\n",
      "10 this is happy\n",
      "13 this is happy\n",
      "19 this is happy\n",
      "23 this is happy\n",
      "28 this is happy\n",
      "31 this is happy\n",
      "32 this is happy\n",
      "44 this is happy\n",
      "49 this is happy\n",
      "68 this is happy\n",
      "70 this is happy\n",
      "79 this is happy\n",
      "82 this is happy\n",
      "86 this is happy\n",
      "91 this is happy\n",
      "94 this is happy\n",
      "97 this is happy\n",
      "100 this is happy\n"
     ]
    }
   ],
   "source": [
    "#question4\n",
    "def is_Happy_num(n):\n",
    "  past = set()\n",
    "  while n != 1:\n",
    "        n = sum(int(i)**2 for i in str(n))\n",
    "        if n in past:\n",
    "            return False\n",
    "        past.add(n)\n",
    "  return True\n",
    "\n",
    "for i in range (1,101):\n",
    "    if is_Happy_num(i):\n",
    "        print(i,\"this is happy\")"
   ]
  },
  {
   "cell_type": "code",
   "execution_count": 13,
   "id": "81092c1e-b920-49a9-9a55-16679d01004e",
   "metadata": {},
   "outputs": [
    {
     "name": "stdout",
     "output_type": "stream",
     "text": [
      "False\n"
     ]
    }
   ],
   "source": [
    "#question5\n",
    "def is_harshad(n):\n",
    "    num=n\n",
    "    sum=b=0\n",
    "    while n!=0:\n",
    "        b=n%10\n",
    "        sum=sum+b\n",
    "        n=n//10\n",
    "    \n",
    "    if num%sum==0:\n",
    "        return True\n",
    "    else: return False   \n",
    "        \n",
    "print(is_harshad(353))        "
   ]
  },
  {
   "cell_type": "code",
   "execution_count": null,
   "id": "10c504e8-d5b7-4ad6-84b1-17d37d7497d2",
   "metadata": {},
   "outputs": [],
   "source": [
    "#question6\n",
    "def is_harshad(n):\n",
    "    num=n\n",
    "    sum=b=0\n",
    "    while n!=0:\n",
    "        b=n%10\n",
    "        sum=sum+b\n",
    "        n=n//10\n",
    "    \n",
    "    if num%sum==0:\n",
    "        return True\n",
    "    else: return False   \n",
    "        \n",
    "for i in range(1,101):\n",
    "    if is_harshad(i):\n",
    "        \n",
    "        print(i,\"is harsha)  "
   ]
  }
 ],
 "metadata": {
  "kernelspec": {
   "display_name": "Python 3 (ipykernel)",
   "language": "python",
   "name": "python3"
  },
  "language_info": {
   "codemirror_mode": {
    "name": "ipython",
    "version": 3
   },
   "file_extension": ".py",
   "mimetype": "text/x-python",
   "name": "python",
   "nbconvert_exporter": "python",
   "pygments_lexer": "ipython3",
   "version": "3.10.6"
  }
 },
 "nbformat": 4,
 "nbformat_minor": 5
}
