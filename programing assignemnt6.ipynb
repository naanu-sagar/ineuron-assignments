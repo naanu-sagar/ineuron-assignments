{
 "cells": [
  {
   "cell_type": "code",
   "execution_count": 13,
   "id": "f575feca-c67e-42e6-b4c0-3cbda05e7591",
   "metadata": {},
   "outputs": [
    {
     "name": "stdin",
     "output_type": "stream",
     "text": [
      "Enter a number 10\n"
     ]
    },
    {
     "name": "stdout",
     "output_type": "stream",
     "text": [
      "Fibonacci sequence:\n",
      "0\n",
      "1\n",
      "1\n",
      "2\n",
      "3\n",
      "5\n",
      "8\n",
      "13\n",
      "21\n",
      "34\n"
     ]
    }
   ],
   "source": [
    "#question1\n",
    "\n",
    "def recur_fibo(n):\n",
    "   if n <= 1:\n",
    "       return n\n",
    "   else:\n",
    "       return(recur_fibo(n-1) + recur_fibo(n-2))\n",
    "\n",
    "nterms =int(input(\"Enter a number\"))\n",
    "\n",
    "\n",
    "if nterms <= 0:\n",
    "   print(\"Plese enter a positive integer\")\n",
    "else:\n",
    "   print(\"Fibonacci sequence:\")\n",
    "   for i in range(nterms):\n",
    "       print(recur_fibo(i))"
   ]
  },
  {
   "cell_type": "code",
   "execution_count": 11,
   "id": "90a1712c-0723-40f6-80a7-aed1b69d7968",
   "metadata": {},
   "outputs": [
    {
     "name": "stdin",
     "output_type": "stream",
     "text": [
      "Enter a Number: 7\n"
     ]
    },
    {
     "name": "stdout",
     "output_type": "stream",
     "text": [
      "The factorial of 7 is 5040\n"
     ]
    }
   ],
   "source": [
    "#question2\n",
    "def rec(n):\n",
    "    if n==1:\n",
    "        return n\n",
    "    else:\n",
    "        return n*rec(n-1)\n",
    "\n",
    "num=int(input(\"Enter a Number:\"))\n",
    "\n",
    "if num==0:\n",
    "    print(\"The factorial of 0 is 1\")\n",
    "elif num<0:\n",
    "    print(\"Sorry no factorial for negative num\")\n",
    "else:\n",
    "    print(f\"The factorial of {num} is {rec(num)}\")"
   ]
  },
  {
   "cell_type": "code",
   "execution_count": 2,
   "id": "8e4dcb88-bcff-4306-ac34-458488d6ea24",
   "metadata": {},
   "outputs": [
    {
     "name": "stdin",
     "output_type": "stream",
     "text": [
      "enter you weight in kg 68\n",
      "enter you height in meters 1.65\n"
     ]
    },
    {
     "name": "stdout",
     "output_type": "stream",
     "text": [
      "Your BMI is :24.977043158861342\n"
     ]
    }
   ],
   "source": [
    "#question3\n",
    "\n",
    "weight=float(input(\"enter you weight in kg\"))\n",
    "height=float(input(\"enter you height in meters\"))\n",
    "\n",
    "BMI=weight/height**2\n",
    "\n",
    "print(f\"Your BMI is :{BMI}\")\n"
   ]
  },
  {
   "cell_type": "code",
   "execution_count": 5,
   "id": "235ea081-6a6b-4dd7-8918-3056798f75e7",
   "metadata": {},
   "outputs": [
    {
     "name": "stdin",
     "output_type": "stream",
     "text": [
      "Enter a number: 2\n"
     ]
    },
    {
     "name": "stdout",
     "output_type": "stream",
     "text": [
      "log of the number is:0.6931471805599453\n"
     ]
    }
   ],
   "source": [
    "#question4\n",
    "import math\n",
    "num=float(input(\"Enter a number:\"))\n",
    "\n",
    "log=math.log(num)\n",
    "print(f\"log of the number is:{log}\")"
   ]
  },
  {
   "cell_type": "code",
   "execution_count": 7,
   "id": "fffb1bf4-25dc-4a79-b034-177a534efd70",
   "metadata": {},
   "outputs": [
    {
     "name": "stdin",
     "output_type": "stream",
     "text": [
      "Enter the value of n 4\n"
     ]
    },
    {
     "name": "stdout",
     "output_type": "stream",
     "text": [
      "The value of sum of first n numbers is :10\n"
     ]
    }
   ],
   "source": [
    "#question5\n",
    "n=int(input(\"Enter the value of n\"))\n",
    "sum=0\n",
    "for i in range(n+1):\n",
    "    sum=sum+i\n",
    "print(f\"The value of sum of first n numbers is :{sum}\")    "
   ]
  },
  {
   "cell_type": "code",
   "execution_count": null,
   "id": "c08b1b0d-77be-4c1c-96c9-3e28e60c619b",
   "metadata": {},
   "outputs": [],
   "source": []
  }
 ],
 "metadata": {
  "kernelspec": {
   "display_name": "Python 3 (ipykernel)",
   "language": "python",
   "name": "python3"
  },
  "language_info": {
   "codemirror_mode": {
    "name": "ipython",
    "version": 3
   },
   "file_extension": ".py",
   "mimetype": "text/x-python",
   "name": "python",
   "nbconvert_exporter": "python",
   "pygments_lexer": "ipython3",
   "version": "3.10.6"
  }
 },
 "nbformat": 4,
 "nbformat_minor": 5
}
