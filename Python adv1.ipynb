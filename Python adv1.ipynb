{
 "cells": [
  {
   "cell_type": "code",
   "execution_count": null,
   "id": "cd1bf41c-306f-4688-83a6-c8c854ac4f2e",
   "metadata": {},
   "outputs": [],
   "source": [
    "#question1\n",
    "In Python, object-oriented Programming (OOPs) is a programming paradigm that uses objects and classes in programming. \n",
    "It aims to implement real-world entities like inheritance, polymorphisms, encapsulation"
   ]
  },
  {
   "cell_type": "code",
   "execution_count": null,
   "id": "3697a089-1c78-4166-adc0-b5144dede983",
   "metadata": {},
   "outputs": [],
   "source": [
    "#question2\n",
    "An inheritance search looks for an attribute first in the instance object, then in the class the instance was created from, \n",
    "then in all higher superclasses, progressing from left to right "
   ]
  },
  {
   "cell_type": "code",
   "execution_count": null,
   "id": "e3ab73ea-ab52-47bb-862c-91a7f27dc9f1",
   "metadata": {},
   "outputs": [],
   "source": [
    "#question3\n",
    "An instance object is a virtual copy of the object."
   ]
  },
  {
   "cell_type": "code",
   "execution_count": null,
   "id": "cd52fcf5-7ec9-408c-bfe8-fa23b5af47c8",
   "metadata": {},
   "outputs": [],
   "source": [
    "#question4\n",
    "the self variable refers to the objects itself"
   ]
  },
  {
   "cell_type": "code",
   "execution_count": null,
   "id": "96cb7ce6-2ad4-43a9-b5f6-fcdee93ab0f0",
   "metadata": {},
   "outputs": [],
   "source": [
    "#question5\n",
    "The __init__ method lets the class initialize the object's attributes "
   ]
  },
  {
   "cell_type": "code",
   "execution_count": null,
   "id": "78d8e360-68ca-4c12-8437-20bf7837f31f",
   "metadata": {},
   "outputs": [],
   "source": [
    "#question6\n",
    "To create instances of a class, you call the class using class name and pass in \n",
    "\\whatever arguments its __init__ method accepts."
   ]
  },
  {
   "cell_type": "code",
   "execution_count": null,
   "id": "2e7ddfb3-5e5e-4343-8c3b-3c245cf1263b",
   "metadata": {},
   "outputs": [],
   "source": [
    "#question7\n",
    "by using the keyword class along with the name of the class\n"
   ]
  },
  {
   "cell_type": "code",
   "execution_count": null,
   "id": "2e723661-b587-426d-816e-64f1afb84664",
   "metadata": {},
   "outputs": [],
   "source": [
    "#question8\n"
   ]
  }
 ],
 "metadata": {
  "kernelspec": {
   "display_name": "Python 3 (ipykernel)",
   "language": "python",
   "name": "python3"
  },
  "language_info": {
   "codemirror_mode": {
    "name": "ipython",
    "version": 3
   },
   "file_extension": ".py",
   "mimetype": "text/x-python",
   "name": "python",
   "nbconvert_exporter": "python",
   "pygments_lexer": "ipython3",
   "version": "3.10.6"
  }
 },
 "nbformat": 4,
 "nbformat_minor": 5
}
