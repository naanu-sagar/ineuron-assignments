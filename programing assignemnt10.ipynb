{
 "cells": [
  {
   "cell_type": "code",
   "execution_count": 3,
   "id": "3f780c1a-819e-4cee-b2e1-ec7888e4e2da",
   "metadata": {},
   "outputs": [
    {
     "name": "stdout",
     "output_type": "stream",
     "text": [
      "15\n"
     ]
    }
   ],
   "source": [
    "#question1\n",
    "def sum_list(n):\n",
    "    sum=0\n",
    "    for i in n:\n",
    "        sum=sum+i\n",
    "    print(sum)\n",
    "\n",
    "    \n",
    "sum_list([1,2,3,4,5])    "
   ]
  },
  {
   "cell_type": "code",
   "execution_count": 6,
   "id": "4e123913-3cb2-4216-95ca-a39ef7b0caf8",
   "metadata": {},
   "outputs": [
    {
     "name": "stdout",
     "output_type": "stream",
     "text": [
      "120\n"
     ]
    }
   ],
   "source": [
    "#question2\n",
    "def mul_list(n):\n",
    "    mul=1\n",
    "    for i in n:\n",
    "        mul=mul*i\n",
    "    print(mul)\n",
    "\n",
    "    \n",
    "mul_list([1,2,3,4,5])   "
   ]
  },
  {
   "cell_type": "code",
   "execution_count": 9,
   "id": "d01b47d8-330b-48c5-b5c2-0127b299c7cf",
   "metadata": {},
   "outputs": [
    {
     "name": "stdout",
     "output_type": "stream",
     "text": [
      "1\n"
     ]
    }
   ],
   "source": [
    "#question3\n",
    "def small_list(n):\n",
    "    \n",
    "    n.sort()\n",
    "    print(n[0])\n",
    "\n",
    "    \n",
    "small_list([2,3,4,5,1]) "
   ]
  },
  {
   "cell_type": "code",
   "execution_count": 10,
   "id": "2b6544d3-5de8-4989-ad7e-247c8cd2d4cd",
   "metadata": {},
   "outputs": [
    {
     "name": "stdout",
     "output_type": "stream",
     "text": [
      "5\n"
     ]
    }
   ],
   "source": [
    "#question4\n",
    "def large_list(n):\n",
    "    \n",
    "    n.sort()\n",
    "    print(n[-1])\n",
    "\n",
    "    \n",
    "large_list([2,3,4,5,1]) "
   ]
  },
  {
   "cell_type": "code",
   "execution_count": 11,
   "id": "d05a6b8b-42e3-4d43-80da-b8fa8f47a40c",
   "metadata": {},
   "outputs": [
    {
     "name": "stdout",
     "output_type": "stream",
     "text": [
      "4\n"
     ]
    }
   ],
   "source": [
    "#question5\n",
    "def slarge_list(n):\n",
    "    \n",
    "    n.sort()\n",
    "    print(n[-2])\n",
    "\n",
    "    \n",
    "slarge_list([2,3,4,5,1]) "
   ]
  },
  {
   "cell_type": "code",
   "execution_count": 18,
   "id": "7eaed846-229d-4cef-b0ff-e82f7eb73c1d",
   "metadata": {},
   "outputs": [
    {
     "name": "stdout",
     "output_type": "stream",
     "text": [
      "5\n",
      "4\n",
      "3\n"
     ]
    }
   ],
   "source": [
    "#question6\n",
    "def slarge_list(n,N):\n",
    "    \n",
    "    n.sort()\n",
    "    for i in range(1,N+1):\n",
    "        print(n[-i])\n",
    "\n",
    "    \n",
    "N=3\n",
    "slarge_list([2,3,4,5,1],N) "
   ]
  },
  {
   "cell_type": "code",
   "execution_count": 20,
   "id": "ff157a08-c713-4c96-9c6e-062d8c7a0838",
   "metadata": {},
   "outputs": [
    {
     "name": "stdout",
     "output_type": "stream",
     "text": [
      "[2, 4, 6, 8]\n"
     ]
    }
   ],
   "source": [
    "#question7\n",
    "l=[1,2,3,4,5,6,7,8,9]\n",
    "\n",
    "a=list(filter(lambda a :a if a%2==0 else False,l))\n",
    "print(a)"
   ]
  },
  {
   "cell_type": "code",
   "execution_count": 21,
   "id": "8b1efeb6-9411-49db-9f39-854b5a1e1338",
   "metadata": {},
   "outputs": [
    {
     "name": "stdout",
     "output_type": "stream",
     "text": [
      "[1, 3, 5, 7, 9]\n"
     ]
    }
   ],
   "source": [
    "#question8\n",
    "l=[1,2,3,4,5,6,7,8,9]\n",
    "\n",
    "a=list(filter(lambda a :a if a%2!=0 else False,l))\n",
    "print(a)"
   ]
  },
  {
   "cell_type": "code",
   "execution_count": 28,
   "id": "13b5f72c-b798-4aa1-aac4-dac17fcb3a45",
   "metadata": {},
   "outputs": [
    {
     "name": "stdout",
     "output_type": "stream",
     "text": [
      "[1, 2, 3, 4, 5, 6, 7, 8, 9, [1, 2]]\n"
     ]
    }
   ],
   "source": [
    "#question9\n",
    "l=[1,2,3,4,5,6,7,8,9,[],[1,2]]\n",
    "\n",
    "a=list(filter(lambda a :a if not (type(a)==list and len(a)==0) else False,l))\n",
    "print(a)"
   ]
  },
  {
   "cell_type": "code",
   "execution_count": 30,
   "id": "ef02eaf9-4f50-4548-93f5-1323a175c15a",
   "metadata": {},
   "outputs": [
    {
     "data": {
      "text/plain": [
       "[1, 3, 4, 6, 7]"
      ]
     },
     "execution_count": 30,
     "metadata": {},
     "output_type": "execute_result"
    }
   ],
   "source": [
    "#question10\n",
    "def clone(n):\n",
    "    l=[]\n",
    "    for i in n:\n",
    "        l.append(i)\n",
    "    return l\n",
    "\n",
    "p=[1,3,4,6,7]\n",
    "clone(p)"
   ]
  },
  {
   "cell_type": "code",
   "execution_count": 40,
   "id": "5e0ab59a-15ca-4b7c-83ca-c33b6827328c",
   "metadata": {},
   "outputs": [
    {
     "name": "stdout",
     "output_type": "stream",
     "text": [
      "8 has occurred 5 times\n"
     ]
    }
   ],
   "source": [
    "#question11\n",
    "\n",
    "def countoc(l,x):\n",
    "    count = 0\n",
    "    for ele in l:\n",
    "        if (ele == x):\n",
    "            count = count + 1\n",
    "    return count\n",
    " \n",
    " \n",
    "l = [8, 6, 8, 10, 8, 20, 10, 8, 8]\n",
    "x = 8\n",
    "print(f'{x} has occurred {countoc(l,x)} times')"
   ]
  },
  {
   "cell_type": "code",
   "execution_count": null,
   "id": "eb59a7cc-9529-4b44-81b4-b6bcb8e23ac7",
   "metadata": {},
   "outputs": [],
   "source": []
  }
 ],
 "metadata": {
  "kernelspec": {
   "display_name": "Python 3 (ipykernel)",
   "language": "python",
   "name": "python3"
  },
  "language_info": {
   "codemirror_mode": {
    "name": "ipython",
    "version": 3
   },
   "file_extension": ".py",
   "mimetype": "text/x-python",
   "name": "python",
   "nbconvert_exporter": "python",
   "pygments_lexer": "ipython3",
   "version": "3.10.6"
  }
 },
 "nbformat": 4,
 "nbformat_minor": 5
}
