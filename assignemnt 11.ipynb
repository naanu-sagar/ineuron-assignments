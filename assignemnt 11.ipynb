{
 "cells": [
  {
   "cell_type": "code",
   "execution_count": 2,
   "id": "b61979ab-14ce-4a7e-8d63-f9f6fa39287e",
   "metadata": {},
   "outputs": [
    {
     "ename": "AssertionError",
     "evalue": "spam should be positive",
     "output_type": "error",
     "traceback": [
      "\u001b[0;31m---------------------------------------------------------------------------\u001b[0m",
      "\u001b[0;31mAssertionError\u001b[0m                            Traceback (most recent call last)",
      "Cell \u001b[0;32mIn [2], line 4\u001b[0m\n\u001b[1;32m      1\u001b[0m \u001b[38;5;66;03m#question1\u001b[39;00m\n\u001b[1;32m      3\u001b[0m spam\u001b[38;5;241m=\u001b[39m\u001b[38;5;241m-\u001b[39m\u001b[38;5;241m1\u001b[39m\n\u001b[0;32m----> 4\u001b[0m \u001b[38;5;28;01massert\u001b[39;00m spam\u001b[38;5;241m>\u001b[39m\u001b[38;5;241m0\u001b[39m,\u001b[38;5;124m\"\u001b[39m\u001b[38;5;124mspam should be positive\u001b[39m\u001b[38;5;124m\"\u001b[39m\n",
      "\u001b[0;31mAssertionError\u001b[0m: spam should be positive"
     ]
    }
   ],
   "source": [
    "#question1\n",
    "\n",
    "spam=-1\n",
    "assert spam>0,\"spam should be positive\""
   ]
  },
  {
   "cell_type": "code",
   "execution_count": 6,
   "id": "830192b6-7f2f-4e34-a136-df227857513f",
   "metadata": {},
   "outputs": [
    {
     "ename": "AssertionError",
     "evalue": "eggs and bacona are not same",
     "output_type": "error",
     "traceback": [
      "\u001b[0;31m---------------------------------------------------------------------------\u001b[0m",
      "\u001b[0;31mAssertionError\u001b[0m                            Traceback (most recent call last)",
      "Cell \u001b[0;32mIn [6], line 5\u001b[0m\n\u001b[1;32m      2\u001b[0m egg\u001b[38;5;241m=\u001b[39m\u001b[38;5;124m\"\u001b[39m\u001b[38;5;124mhello\u001b[39m\u001b[38;5;124m\"\u001b[39m\n\u001b[1;32m      3\u001b[0m bacon\u001b[38;5;241m=\u001b[39m\u001b[38;5;124m\"\u001b[39m\u001b[38;5;124mHE1LLo\u001b[39m\u001b[38;5;124m\"\u001b[39m\n\u001b[0;32m----> 5\u001b[0m \u001b[38;5;28;01massert\u001b[39;00m egg\u001b[38;5;241m.\u001b[39mupper()\u001b[38;5;241m==\u001b[39mbacon\u001b[38;5;241m.\u001b[39mupper(),\u001b[38;5;124m\"\u001b[39m\u001b[38;5;124meggs and bacona are not same\u001b[39m\u001b[38;5;124m\"\u001b[39m\n",
      "\u001b[0;31mAssertionError\u001b[0m: eggs and bacona are not same"
     ]
    }
   ],
   "source": [
    "#question2\n",
    "egg=\"hello\"\n",
    "bacon=\"HE1LLo\"\n",
    "\n",
    "assert egg.upper()==bacon.upper(),\"eggs and bacona are not same\""
   ]
  },
  {
   "cell_type": "code",
   "execution_count": 8,
   "id": "9349324a-6709-496e-9494-7a4b1a926df1",
   "metadata": {},
   "outputs": [
    {
     "ename": "AssertionError",
     "evalue": "this is simply assersion",
     "output_type": "error",
     "traceback": [
      "\u001b[0;31m---------------------------------------------------------------------------\u001b[0m",
      "\u001b[0;31mAssertionError\u001b[0m                            Traceback (most recent call last)",
      "Cell \u001b[0;32mIn [8], line 5\u001b[0m\n\u001b[1;32m      2\u001b[0m a\u001b[38;5;241m=\u001b[39m\u001b[38;5;28;01mTrue\u001b[39;00m\n\u001b[1;32m      3\u001b[0m b\u001b[38;5;241m=\u001b[39m\u001b[38;5;28;01mFalse\u001b[39;00m\n\u001b[0;32m----> 5\u001b[0m \u001b[38;5;28;01massert\u001b[39;00m \u001b[38;5;28;01mFalse\u001b[39;00m ,\u001b[38;5;124m\"\u001b[39m\u001b[38;5;124mthis is simply assersion\u001b[39m\u001b[38;5;124m\"\u001b[39m\n",
      "\u001b[0;31mAssertionError\u001b[0m: this is simply assersion"
     ]
    }
   ],
   "source": [
    "#question3\n",
    "assert False ,\"this is simply assersion\"\n"
   ]
  },
  {
   "cell_type": "code",
   "execution_count": 10,
   "id": "2810d2e0-4232-42d6-a8ab-4fe6013c2d46",
   "metadata": {},
   "outputs": [],
   "source": [
    "#question4\n",
    "import logging\n",
    "logging.basicConfig(level=logging.DEBUG, format=' %(asctime)s -%(levelname)s - %(message)s')\n",
    "logging.disable"
   ]
  },
  {
   "cell_type": "code",
   "execution_count": 11,
   "id": "b96d5f70-286c-450d-8f5c-e632754de31b",
   "metadata": {},
   "outputs": [],
   "source": [
    "#question5\n",
    "import logging\n",
    "logging.basicConfig(filename='programLog.txt')"
   ]
  },
  {
   "cell_type": "code",
   "execution_count": 12,
   "id": "e6082910-8639-4409-9aa7-e0d57db6e54e",
   "metadata": {},
   "outputs": [
    {
     "ename": "NameError",
     "evalue": "name 'Debug' is not defined",
     "output_type": "error",
     "traceback": [
      "\u001b[0;31m---------------------------------------------------------------------------\u001b[0m",
      "\u001b[0;31mNameError\u001b[0m                                 Traceback (most recent call last)",
      "Cell \u001b[0;32mIn [12], line 2\u001b[0m\n\u001b[1;32m      1\u001b[0m \u001b[38;5;66;03m#question6\u001b[39;00m\n\u001b[0;32m----> 2\u001b[0m \u001b[43mDebug\u001b[49m\n\u001b[1;32m      3\u001b[0m Info\n\u001b[1;32m      4\u001b[0m \u001b[38;5;167;01mWarning\u001b[39;00m\n",
      "\u001b[0;31mNameError\u001b[0m: name 'Debug' is not defined"
     ]
    }
   ],
   "source": [
    "#question6\n",
    "Debug\n",
    "Info\n",
    "Warning\n",
    "Eroor\n",
    "Critical\n"
   ]
  },
  {
   "cell_type": "code",
   "execution_count": null,
   "id": "00943b5d-d982-45c1-8dc3-37f6e965bf0a",
   "metadata": {},
   "outputs": [],
   "source": [
    "#question7\n",
    "logging.disable(logging.CRITICAL)"
   ]
  },
  {
   "cell_type": "code",
   "execution_count": null,
   "id": "8e7677b7-be2d-4d4e-b7e6-1b01c6d1602c",
   "metadata": {},
   "outputs": [],
   "source": [
    "#question8\n",
    "logging provides features like timestamp,messages,level of logging \n",
    "we can disable it any time"
   ]
  },
  {
   "cell_type": "code",
   "execution_count": null,
   "id": "1af2ee52-fb4c-42ac-81c3-56b3b1519aae",
   "metadata": {},
   "outputs": [],
   "source": [
    "#question8\n",
    "Step Into will cause the debugger to go into the next function call and break there.\n",
    "Step Over will tell the debugger to execute the next function and break afterwards. \n",
    "Step Out will tell the debugger to finish the current function and break after it."
   ]
  }
 ],
 "metadata": {
  "kernelspec": {
   "display_name": "Python 3 (ipykernel)",
   "language": "python",
   "name": "python3"
  },
  "language_info": {
   "codemirror_mode": {
    "name": "ipython",
    "version": 3
   },
   "file_extension": ".py",
   "mimetype": "text/x-python",
   "name": "python",
   "nbconvert_exporter": "python",
   "pygments_lexer": "ipython3",
   "version": "3.10.6"
  }
 },
 "nbformat": 4,
 "nbformat_minor": 5
}
