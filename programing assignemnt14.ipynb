{
 "cells": [
  {
   "cell_type": "code",
   "execution_count": 6,
   "id": "b5d8def7-f346-494b-8713-73a43ffcbb24",
   "metadata": {},
   "outputs": [
    {
     "name": "stdout",
     "output_type": "stream",
     "text": [
      "0\n",
      "7\n",
      "14\n"
     ]
    }
   ],
   "source": [
    "#question1\n",
    "\n",
    "\n",
    "def check(n):\n",
    "    for i in range(n):\n",
    "        if i%7==0:\n",
    "            yield i\n",
    "            \n",
    "for i in check(15):\n",
    "    print(i)\n"
   ]
  },
  {
   "cell_type": "code",
   "execution_count": 15,
   "id": "409595f6-0c9c-4b38-8c29-6a66b1c4c0f6",
   "metadata": {},
   "outputs": [
    {
     "name": "stdin",
     "output_type": "stream",
     "text": [
      "Enter a sentance: New to Python or choosing between Python 2 and Python 3? Read Python 2 or Python 3.\n"
     ]
    },
    {
     "name": "stdout",
     "output_type": "stream",
     "text": [
      "Python : 5\n",
      "and : 1\n",
      "to : 1\n",
      "choosing : 1\n",
      "or : 2\n",
      "New : 1\n",
      "2 : 2\n",
      "between : 1\n",
      "Read : 1\n",
      "3. : 1\n",
      "3? : 1\n"
     ]
    }
   ],
   "source": [
    "#question2\n",
    "\n",
    "def counter(s):\n",
    "    l=s.split(\" \")\n",
    "    l.sort()\n",
    "    d=set(l)\n",
    "    for i in d:\n",
    "        count=l.count(i)\n",
    "        print(f\"{i} : {count}\") \n",
    "\n",
    "\n",
    "\n",
    "st=input(\"Enter a sentance:\")\n",
    "counter(st)"
   ]
  },
  {
   "cell_type": "code",
   "execution_count": 19,
   "id": "ddd4afb3-b5b0-4d63-99c8-3c3c17fdfd96",
   "metadata": {},
   "outputs": [
    {
     "name": "stdout",
     "output_type": "stream",
     "text": [
      "Iam male\n",
      "Iam female\n"
     ]
    }
   ],
   "source": [
    "#question3\n",
    "\n",
    "class person():\n",
    "    def getGender(self):\n",
    "        pass\n",
    "        \n",
    "class Male(person):\n",
    "    def getGender(self):\n",
    "        print(\"Iam male\")\n",
    "        \n",
    "class Female(person):\n",
    "    def getGender(self):\n",
    "        print(\"Iam female\")\n",
    "        \n",
    "        \n",
    "m=Male()\n",
    "m.getGender()\n",
    "f=Female()\n",
    "f.getGender()"
   ]
  },
  {
   "cell_type": "code",
   "execution_count": 20,
   "id": "221dcdd7-67c1-4b9d-a293-0ea428df335d",
   "metadata": {},
   "outputs": [
    {
     "name": "stdout",
     "output_type": "stream",
     "text": [
      "I Play Hockey\n",
      "I Play Football\n",
      "I Love Hockey\n",
      "I Love Football\n",
      "You Play Hockey\n",
      "You Play Football\n",
      "You Love Hockey\n",
      "You Love Football\n"
     ]
    }
   ],
   "source": [
    "#question4\n",
    "subjects = [\"I\", \"You\"]\n",
    "verbs = [\"Play\", \"Love\"]\n",
    "objects = [\"Hockey\", \"Football\"]\n",
    "for i in range(len(subjects)):\n",
    "    for j in range(len(verbs)):\n",
    "        for k in range(len(objects)):\n",
    "            sentence = f\"{subjects[i]} {verbs[j]} {objects[k]}\"\n",
    "            print(sentence)"
   ]
  },
  {
   "cell_type": "code",
   "execution_count": 25,
   "id": "7b898804-2445-4324-b6c2-14b4440ed1a2",
   "metadata": {},
   "outputs": [
    {
     "name": "stdout",
     "output_type": "stream",
     "text": [
      "b'x\\x9c\\xcbH\\xcd\\xc9\\xc9W(\\xcf/\\xcaIQ\\xcc \\x82\\r\\x00\\xbd[\\x11\\xf5'\n",
      "b'hello world!hello world!hello world!hello world!'\n"
     ]
    }
   ],
   "source": [
    "#question5\n",
    "import zlib\n",
    "s = 'hello world!hello world!hello world!hello world!'\n",
    "y = bytes(s, 'utf-8')\n",
    "t = zlib.compress(y)\n",
    "print(t)\n",
    "print(zlib.decompress(t))"
   ]
  },
  {
   "cell_type": "code",
   "execution_count": 28,
   "id": "5c1bca6a-8b59-4ad7-a304-5f31272a6ea9",
   "metadata": {},
   "outputs": [
    {
     "name": "stdout",
     "output_type": "stream",
     "text": [
      "index of 5 is 4\n"
     ]
    }
   ],
   "source": [
    "#question6\n",
    "def search(l,e):\n",
    "    l.sort()\n",
    "    \n",
    "    for i in range(len(l)):\n",
    "        if l[i]==e:\n",
    "            print(f\"index of {e} is {i}\")\n",
    "        \n",
    "p=[1,2,3,4,5,6,7,8]\n",
    "search(p,5)"
   ]
  },
  {
   "cell_type": "code",
   "execution_count": null,
   "id": "42747519-9188-4192-b634-8f0143862cb1",
   "metadata": {},
   "outputs": [],
   "source": []
  }
 ],
 "metadata": {
  "kernelspec": {
   "display_name": "Python 3 (ipykernel)",
   "language": "python",
   "name": "python3"
  },
  "language_info": {
   "codemirror_mode": {
    "name": "ipython",
    "version": 3
   },
   "file_extension": ".py",
   "mimetype": "text/x-python",
   "name": "python",
   "nbconvert_exporter": "python",
   "pygments_lexer": "ipython3",
   "version": "3.10.6"
  }
 },
 "nbformat": 4,
 "nbformat_minor": 5
}
