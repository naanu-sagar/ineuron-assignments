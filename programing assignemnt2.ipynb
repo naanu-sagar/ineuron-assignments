{
 "cells": [
  {
   "cell_type": "code",
   "execution_count": 3,
   "id": "b3ae102d-1a5d-4220-89be-c9f805b29844",
   "metadata": {},
   "outputs": [
    {
     "name": "stdin",
     "output_type": "stream",
     "text": [
      "enter distance in Kms 10\n"
     ]
    },
    {
     "name": "stdout",
     "output_type": "stream",
     "text": [
      "distance in miles is 6.21371\n"
     ]
    }
   ],
   "source": [
    "#question1\n",
    "distance_km=float(input('enter distance in Kms'))\n",
    "conv_fac = 0.621371\n",
    "distance_miles=distance_km*conv_fac\n",
    "print(f\"distance in miles is {distance_miles}\")"
   ]
  },
  {
   "cell_type": "code",
   "execution_count": null,
   "id": "aca13ce0-97ac-4185-8327-4be8da63440e",
   "metadata": {},
   "outputs": [],
   "source": [
    "#question2\n",
    "fahrenheit = float(input(\"Enter temperature in fahrenheit: \"))\n",
    "celsius = (fahrenheit - 32)/1.8\n",
    "print(str(fahrenheit )+ \" degree Fahrenheit is equal to \" + str(celsius ) + \" degree Celsius.\" )\n"
   ]
  },
  {
   "cell_type": "code",
   "execution_count": 2,
   "id": "9af56923-62f7-4ee4-95d2-8727eee326b6",
   "metadata": {},
   "outputs": [
    {
     "name": "stdout",
     "output_type": "stream",
     "text": [
      "   November 2022\n",
      "Mo Tu We Th Fr Sa Su\n",
      "    1  2  3  4  5  6\n",
      " 7  8  9 10 11 12 13\n",
      "14 15 16 17 18 19 20\n",
      "21 22 23 24 25 26 27\n",
      "28 29 30\n",
      "\n"
     ]
    }
   ],
   "source": [
    "#question3\n",
    "import calendar\n",
    " \n",
    "yy = 2022\n",
    "mm = 11\n",
    " \n",
    "\n",
    "print(calendar.month(yy, mm))"
   ]
  },
  {
   "cell_type": "code",
   "execution_count": 9,
   "id": "d7d4f69e-b927-4372-b463-1e43198dd231",
   "metadata": {},
   "outputs": [
    {
     "name": "stdout",
     "output_type": "stream",
     "text": [
      " real and different roots \n",
      "2.0\n",
      "-12.0\n"
     ]
    }
   ],
   "source": [
    "    #question4\n",
    "    import math \n",
    "\n",
    "    a = 10\n",
    "    b = 100\n",
    "    c = -240\n",
    "\n",
    "\n",
    "    dis = b * b - 4 * a * c \n",
    "    sqrt_val = math.sqrt(abs(dis)) \n",
    "\n",
    "\n",
    "    if dis > 0: \n",
    "        print(\" real and different roots \") \n",
    "        print((-b + sqrt_val)/(2 * a)) \n",
    "        print((-b - sqrt_val)/(2 * a)) \n",
    "\n",
    "    elif dis == 0: \n",
    "        print(\" real and same roots\") \n",
    "        print(-b / (2 * a)) \n",
    "\n",
    "\n",
    "    else:\n",
    "        print(\"Complex Roots\") \n",
    "        print(- b / (2 * a), \" + i\", sqrt_val) \n",
    "        print(- b / (2 * a), \" - i\", sqrt_val) \n",
    "\n",
    "\n",
    "\n",
    "\n",
    "\n",
    "  \n"
   ]
  },
  {
   "cell_type": "code",
   "execution_count": 11,
   "id": "5ac75914-edd1-4e21-accb-59da302918f4",
   "metadata": {},
   "outputs": [
    {
     "name": "stdout",
     "output_type": "stream",
     "text": [
      "After Swapping: x = 50  y = 100\n"
     ]
    }
   ],
   "source": [
    "#question5\n",
    "x = 100\n",
    "y = 50\n",
    " \n",
    "\n",
    "x = x + y\n",
    "y = x - y\n",
    "x = x - y\n",
    "print(\"After Swapping: x =\", x, \" y =\", y)"
   ]
  },
  {
   "cell_type": "code",
   "execution_count": null,
   "id": "836063b5-6fb1-46f3-8c70-2be118e0bcb5",
   "metadata": {},
   "outputs": [],
   "source": []
  }
 ],
 "metadata": {
  "kernelspec": {
   "display_name": "Python 3 (ipykernel)",
   "language": "python",
   "name": "python3"
  },
  "language_info": {
   "codemirror_mode": {
    "name": "ipython",
    "version": 3
   },
   "file_extension": ".py",
   "mimetype": "text/x-python",
   "name": "python",
   "nbconvert_exporter": "python",
   "pygments_lexer": "ipython3",
   "version": "3.10.6"
  }
 },
 "nbformat": 4,
 "nbformat_minor": 5
}
