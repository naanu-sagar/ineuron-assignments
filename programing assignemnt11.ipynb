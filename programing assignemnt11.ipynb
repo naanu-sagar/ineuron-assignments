{
 "cells": [
  {
   "cell_type": "code",
   "execution_count": null,
   "id": "fa072dd8-35d4-4d0a-bd03-2e7d676bf603",
   "metadata": {
    "tags": []
   },
   "outputs": [],
   "source": [
    "#question1\n",
    "def finding(l,k):\n",
    "    p=[]\n",
    "    for i in l:\n",
    "        if len(i)>k:\n",
    "            p.append(i)\n",
    "        \n",
    "    return p\n",
    "\n",
    "# l=[\"sagar\",\"hello\",\"hi\",\"namskara\",\"jkl\"]\n",
    "# k=5\n",
    "# finding(l,k)\n",
    "n=int(input(\"enter the number of elements in list\"))\n",
    "l=[]\n",
    "for i in range(0,n):\n",
    "      l.append(input(\"enter the elements one by one\"))\n",
    "k=int(input(\"enter the length\"))\n",
    "finding(l,k)"
   ]
  },
  {
   "cell_type": "code",
   "execution_count": 11,
   "id": "d06927cf-7933-4398-8edd-97d6ea3ab323",
   "metadata": {},
   "outputs": [
    {
     "data": {
      "text/plain": [
       "'hell'"
      ]
     },
     "execution_count": 11,
     "metadata": {},
     "output_type": "execute_result"
    }
   ],
   "source": [
    "#question2\n",
    "def remove(string,index):\n",
    "    a=string[:index]\n",
    "    b=string[index+1:]\n",
    "    return a+b\n",
    "\n",
    "remove(\"hello\",4)"
   ]
  },
  {
   "cell_type": "code",
   "execution_count": null,
   "id": "c7e376be-8ca1-4341-8417-6c9f091d7337",
   "metadata": {},
   "outputs": [],
   "source": [
    "#question3\n",
    "\n",
    "\n",
    "def split_string(string):\n",
    "\n",
    "\tlist_string = string.split(' ')\n",
    "\t\n",
    "\treturn list_string\n",
    "\n",
    "def join_string(list_string):\n",
    "\n",
    "\tstring = '-'.join(list_string)\n",
    "\t\n",
    "\treturn string\n",
    "\n",
    "if __name__ == '__main__':\n",
    "\tstring = 'Geeks for Geeks'\n",
    "\n",
    "\tlist_string = split_string(string)\n",
    "\tprint(list_string)\n",
    "\n",
    "\t# Join list of strings into one\n",
    "\tnew_string = join_string(list_string)\n",
    "\tprint(new_string)\n",
    "\n",
    "\n"
   ]
  },
  {
   "cell_type": "code",
   "execution_count": 8,
   "id": "6d5642f1-2cd4-44b3-aec2-cbeb385ca8ec",
   "metadata": {},
   "outputs": [
    {
     "data": {
      "text/plain": [
       "False"
      ]
     },
     "execution_count": 8,
     "metadata": {},
     "output_type": "execute_result"
    }
   ],
   "source": [
    "#question4\n",
    "\n",
    "def isbinary(s):\n",
    "    p=set(s)\n",
    "    r={'0','1'}\n",
    "    \n",
    "    if p==r or p=={'0'} or p=={'1'}:\n",
    "        return True\n",
    "    else:\n",
    "        return False\n",
    "    \n",
    "isbinary(\"1010101l001\")    "
   ]
  },
  {
   "cell_type": "code",
   "execution_count": 6,
   "id": "fdbaa76a-0631-4a66-a441-e92e3a151a24",
   "metadata": {},
   "outputs": [
    {
     "data": {
      "text/plain": [
       "['how', 'namskara', 'fine']"
      ]
     },
     "execution_count": 6,
     "metadata": {},
     "output_type": "execute_result"
    }
   ],
   "source": [
    "#question5\n",
    "def uncommon(s,d):\n",
    "    l=s.split(' ')\n",
    "    n=d.split(' ')\n",
    "    p=[]\n",
    "    \n",
    "    for i in l:\n",
    "        if i not in d:\n",
    "            p.append(i)\n",
    "    for g in n:\n",
    "        if g not in s:\n",
    "            p.append(g)\n",
    "    return p\n",
    "\n",
    "s=\"hello how are you\"\n",
    "d=\"hello namskara are you fine\"\n",
    "uncommon(s,d)"
   ]
  },
  {
   "cell_type": "code",
   "execution_count": 1,
   "id": "856bb434-a66c-4ddc-8276-b91768c14cf1",
   "metadata": {},
   "outputs": [
    {
     "name": "stdout",
     "output_type": "stream",
     "text": [
      "['hello', 'l', 'j', 'k', 'p', 'q']\n"
     ]
    }
   ],
   "source": []
  },
  {
   "cell_type": "code",
   "execution_count": 15,
   "id": "06e8eb24-8b90-47d7-8cf8-c27944c71530",
   "metadata": {},
   "outputs": [
    {
     "name": "stdout",
     "output_type": "stream",
     "text": [
      "e l o\n"
     ]
    }
   ],
   "source": [
    "#question6\n",
    "def repeat(l):\n",
    "    x=[]\n",
    "    for i in l:\n",
    "        if i not in x and l.count(i)>1:\n",
    "            x.append(i)\n",
    "    print(\" \".join(x))\n",
    "\n",
    "repeat(\"hellooee\")\n",
    "            "
   ]
  },
  {
   "cell_type": "code",
   "execution_count": 16,
   "id": "f4cd2472-7259-41da-b4d1-e9beab27a2ae",
   "metadata": {},
   "outputs": [
    {
     "data": {
      "text/plain": [
       "['!', '@', '#', '@']"
      ]
     },
     "execution_count": 16,
     "metadata": {},
     "output_type": "execute_result"
    }
   ],
   "source": [
    "#question7\n",
    "def special(l):\n",
    "    x=[]\n",
    "    s='[@_!#$%^&*()<>?/\\|}{~:]'\n",
    "    for i in l:\n",
    "        if i in s:\n",
    "            x.append(i)\n",
    "            \n",
    "    return x\n",
    "special(\"hi1 1!@#@ \")"
   ]
  },
  {
   "cell_type": "code",
   "execution_count": null,
   "id": "6d600414-edf4-4ea9-b4b7-a522ac17eb30",
   "metadata": {},
   "outputs": [],
   "source": []
  }
 ],
 "metadata": {
  "kernelspec": {
   "display_name": "Python 3 (ipykernel)",
   "language": "python",
   "name": "python3"
  },
  "language_info": {
   "codemirror_mode": {
    "name": "ipython",
    "version": 3
   },
   "file_extension": ".py",
   "mimetype": "text/x-python",
   "name": "python",
   "nbconvert_exporter": "python",
   "pygments_lexer": "ipython3",
   "version": "3.10.6"
  }
 },
 "nbformat": 4,
 "nbformat_minor": 5
}
