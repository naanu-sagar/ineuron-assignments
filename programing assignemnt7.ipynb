{
 "cells": [
  {
   "cell_type": "code",
   "execution_count": 5,
   "id": "807fe5c1-b17f-4232-8041-8e233bd6e8fc",
   "metadata": {},
   "outputs": [
    {
     "name": "stdout",
     "output_type": "stream",
     "text": [
      "array('i', [10, 20, 30])\n",
      "60\n"
     ]
    }
   ],
   "source": [
    "#question1\n",
    "import array as arr \n",
    "\n",
    "numbers = arr.array('i',[10,20,30])\n",
    "print(numbers)\n",
    "\n",
    "sum=0\n",
    "\n",
    "for i in numbers:\n",
    "    sum=sum+i\n",
    "print(sum)  "
   ]
  },
  {
   "cell_type": "code",
   "execution_count": 6,
   "id": "3f123e06-e5b2-450b-877a-533b2af22aca",
   "metadata": {},
   "outputs": [
    {
     "name": "stdout",
     "output_type": "stream",
     "text": [
      "array('i', [10, 20, 30])\n",
      "30\n"
     ]
    }
   ],
   "source": [
    "#question2\n",
    "import array as arr \n",
    "\n",
    "numbers = arr.array('i',[10,20,30])\n",
    "print(numbers)\n",
    "\n",
    "\n",
    "maxarr=numbers[0]\n",
    "\n",
    "for i in numbers:\n",
    "    if maxarr<i:\n",
    "        maxarr=i\n",
    "\n",
    "print(maxarr)  "
   ]
  },
  {
   "cell_type": "code",
   "execution_count": 23,
   "id": "9331991c-aa05-4c74-9709-737a679d2690",
   "metadata": {},
   "outputs": [
    {
     "name": "stdout",
     "output_type": "stream",
     "text": [
      "None\n",
      "array('i', [30, 20, 10])\n"
     ]
    }
   ],
   "source": [
    "#question3\n",
    "import array as arr \n",
    "\n",
    "numbers = arr.array('i',[10,20,30])\n",
    "print(numbers.reverse())\n",
    "\n",
    "rev=arr.array('i')\n",
    "maxarr=numbers[0]\n",
    "\n",
    "for i in reversed(range(len(numbers)-1,-1,-1)):\n",
    "    rev.append(numbers[i])\n",
    "\n",
    "print(rev)  "
   ]
  },
  {
   "cell_type": "code",
   "execution_count": null,
   "id": "6b9b17c6-9498-4c51-a9aa-753a0c3d07a1",
   "metadata": {},
   "outputs": [],
   "source": [
    "#question4\n",
    "def rotateArray(a,d):\n",
    "    n=len(a)\n",
    "    a[:]=a[d:n]+a[0:d]\n",
    "    return a\n",
    "\n",
    "arr = [1, 2, 7, 8, 5, 6]\n",
    "\n",
    "print(\"Rotated list is\")\n",
    "print(rotateArray(arr,2)) "
   ]
  },
  {
   "cell_type": "code",
   "execution_count": 1,
   "id": "5e2b60a5-182e-4935-a214-9cd43c834746",
   "metadata": {},
   "outputs": [
    {
     "name": "stdout",
     "output_type": "stream",
     "text": [
      "False\n"
     ]
    }
   ],
   "source": [
    "#question5\n",
    "def ismonotone(a):\n",
    "    n=len(a) \n",
    "    if n==1:\n",
    "        return True\n",
    "    else:\n",
    "       \n",
    "        if all(a[i]>=a[i+1] for i in range(0,n-1) or a[i]<=a[i+1] for i in range(0,n-1)):\n",
    "            return True\n",
    "        else:\n",
    "            return False\n",
    "\n",
    "A = [6, 5, 4,10, 2]\n",
    "print(ismonotone(A))"
   ]
  },
  {
   "cell_type": "code",
   "execution_count": null,
   "id": "f62fec26-bd0e-462e-a9b3-dee303480054",
   "metadata": {},
   "outputs": [],
   "source": []
  }
 ],
 "metadata": {
  "kernelspec": {
   "display_name": "Python 3 (ipykernel)",
   "language": "python",
   "name": "python3"
  },
  "language_info": {
   "codemirror_mode": {
    "name": "ipython",
    "version": 3
   },
   "file_extension": ".py",
   "mimetype": "text/x-python",
   "name": "python",
   "nbconvert_exporter": "python",
   "pygments_lexer": "ipython3",
   "version": "3.10.6"
  }
 },
 "nbformat": 4,
 "nbformat_minor": 5
}
