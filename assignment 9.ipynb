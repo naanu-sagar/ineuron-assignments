{
 "cells": [
  {
   "cell_type": "markdown",
   "id": "882359b1-7638-4600-8041-5b8705947329",
   "metadata": {},
   "source": [
    "#question 1\n",
    "\n",
    "A relative path refers to a location that is relative to a current directory."
   ]
  },
  {
   "cell_type": "code",
   "execution_count": null,
   "id": "6b9a8c62-5988-4c9e-9edd-0f13208bfb7d",
   "metadata": {},
   "outputs": [],
   "source": [
    "#question2\n",
    "An absolute path is a path that contains the entire path to the file or directory that you need to access. \n",
    "This path will begin at the home directory of your computer and will end with the file or directory that you wish to access"
   ]
  },
  {
   "cell_type": "code",
   "execution_count": null,
   "id": "8918494e-6f81-4a25-ab3d-6197a501a36f",
   "metadata": {},
   "outputs": [],
   "source": [
    "#question3\n",
    "os.getcwd() will show us the current working directory\n",
    "\n",
    "and os.chdir() will chenage the working directory to the desired path"
   ]
  },
  {
   "cell_type": "code",
   "execution_count": null,
   "id": "dd5288b4-36c1-4222-9799-c312ebf0bdc8",
   "metadata": {},
   "outputs": [],
   "source": [
    "#question4\n",
    ". is files\n",
    "and .. is subdirectories"
   ]
  },
  {
   "cell_type": "code",
   "execution_count": null,
   "id": "bd863ab5-5595-46af-bde8-6e8bbfb8d4e9",
   "metadata": {},
   "outputs": [],
   "source": [
    "#question5\n",
    "C:\\bacon\\eggs\\ is dir name\n",
    "spam.txt is base name\n",
    "\n"
   ]
  },
  {
   "cell_type": "code",
   "execution_count": null,
   "id": "d88a8cfa-9a32-4d64-b21b-d0b1cdff06ec",
   "metadata": {},
   "outputs": [],
   "source": [
    "#question6\n",
    "w for wirte mode\n",
    "r for read mode\n",
    "r+ for read and write mode\n"
   ]
  },
  {
   "cell_type": "code",
   "execution_count": null,
   "id": "5a2307a3-36e5-40f2-b853-dbdf92aa2d2a",
   "metadata": {},
   "outputs": [],
   "source": [
    "#question7\n",
    "An existing file opened in write mode is erased and completely overwritten."
   ]
  },
  {
   "cell_type": "code",
   "execution_count": null,
   "id": "1be2492b-b95f-4e55-b513-6729c06c0d42",
   "metadata": {},
   "outputs": [],
   "source": [
    "#question8\n",
    "The read() method returns the file's entire contents as a single string value.\n",
    "The readlines() method returns a list of strings each line is elements of list\n"
   ]
  },
  {
   "cell_type": "code",
   "execution_count": null,
   "id": "5f9165a5-e661-42f3-9e49-4641f1d18c92",
   "metadata": {},
   "outputs": [],
   "source": [
    "#question9\n",
    "director"
   ]
  }
 ],
 "metadata": {
  "kernelspec": {
   "display_name": "Python 3 (ipykernel)",
   "language": "python",
   "name": "python3"
  },
  "language_info": {
   "codemirror_mode": {
    "name": "ipython",
    "version": 3
   },
   "file_extension": ".py",
   "mimetype": "text/x-python",
   "name": "python",
   "nbconvert_exporter": "python",
   "pygments_lexer": "ipython3",
   "version": "3.10.6"
  }
 },
 "nbformat": 4,
 "nbformat_minor": 5
}
