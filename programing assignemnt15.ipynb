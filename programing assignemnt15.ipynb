{
 "cells": [
  {
   "cell_type": "code",
   "execution_count": 5,
   "id": "0e117e68-cbc8-47a2-adf7-fb7cefe9afc7",
   "metadata": {},
   "outputs": [
    {
     "name": "stdin",
     "output_type": "stream",
     "text": [
      "Enter the value of n: 100\n"
     ]
    },
    {
     "data": {
      "text/plain": [
       "'0,35,70'"
      ]
     },
     "execution_count": 5,
     "metadata": {},
     "output_type": "execute_result"
    }
   ],
   "source": [
    "#question1\n",
    "def divby57(d):\n",
    "    s=[]\n",
    "    for i in range(d):\n",
    "        if i %5==0 and i%7==0:\n",
    "            s.append(str(i))\n",
    "            \n",
    "    return ','.join(s)\n",
    "\n",
    "d=int(input(\"Enter the value of n:\" ))\n",
    "divby57(d)"
   ]
  },
  {
   "cell_type": "code",
   "execution_count": 7,
   "id": "ac75b285-689c-48fc-bc33-d3840940249a",
   "metadata": {},
   "outputs": [
    {
     "name": "stdin",
     "output_type": "stream",
     "text": [
      "Enter the value of n: 10\n"
     ]
    },
    {
     "data": {
      "text/plain": [
       "'0,2,4,6,8,10'"
      ]
     },
     "execution_count": 7,
     "metadata": {},
     "output_type": "execute_result"
    }
   ],
   "source": [
    "#question2\n",
    "def even(d):\n",
    "    s=[]\n",
    "    for i in range(d+1):\n",
    "        if i %2==0:\n",
    "            s.append(str(i))\n",
    "            \n",
    "    return ','.join(s)\n",
    "\n",
    "d=int(input(\"Enter the value of n:\" ))\n",
    "even(d)"
   ]
  },
  {
   "cell_type": "code",
   "execution_count": 8,
   "id": "504ff9b5-e637-44a7-86f0-0360252b24cd",
   "metadata": {},
   "outputs": [
    {
     "name": "stdin",
     "output_type": "stream",
     "text": [
      "Enter a number:  7\n"
     ]
    },
    {
     "name": "stdout",
     "output_type": "stream",
     "text": [
      "[0, 1, 1, 2, 3, 5, 8, 13]\n"
     ]
    }
   ],
   "source": [
    "#question3\n",
    "def fib(n):\n",
    "    a,b=0,1\n",
    "    sum=0\n",
    "    if n==0 or n==1 :\n",
    "        return n\n",
    "    else:\n",
    "        return fib(n-1)+fib(n-2)\n",
    "    \n",
    "            \n",
    "    \n",
    "i=int(input(\"Enter a number: \"))\n",
    "l=[]\n",
    "for p in range(i+1):\n",
    "    l.append(fib(p))\n",
    "print(l)    "
   ]
  },
  {
   "cell_type": "code",
   "execution_count": 11,
   "id": "e0339c11-0c2b-438c-bcf0-8344a09acbed",
   "metadata": {},
   "outputs": [
    {
     "data": {
      "text/plain": [
       "'sagar'"
      ]
     },
     "execution_count": 11,
     "metadata": {},
     "output_type": "execute_result"
    }
   ],
   "source": [
    "#question4\n",
    "def name(n):\n",
    "    p=n.split('@')\n",
    "    return p[0]\n",
    "\n",
    "name(\"sagar@gmail.com\")"
   ]
  },
  {
   "cell_type": "code",
   "execution_count": 30,
   "id": "936d5d18-8960-41c6-917c-4916472f64ae",
   "metadata": {},
   "outputs": [
    {
     "data": {
      "text/plain": [
       "0"
      ]
     },
     "execution_count": 30,
     "metadata": {},
     "output_type": "execute_result"
    }
   ],
   "source": [
    "#question5\n",
    "class shape:\n",
    "    def area(self):\n",
    "        return 0\n",
    "    \n",
    "class square(shape):\n",
    "    \n",
    "    def __init__(self,l):\n",
    "        self.l=l\n",
    "        \n",
    "        \n",
    "    def area(self):\n",
    "        return self.l*self.l\n",
    "s=shape() \n",
    "s.area()\n",
    "b=square(3)\n",
    "b.area()"
   ]
  },
  {
   "cell_type": "code",
   "execution_count": null,
   "id": "243d3829-c845-4188-ae10-9623368634c0",
   "metadata": {},
   "outputs": [],
   "source": []
  }
 ],
 "metadata": {
  "kernelspec": {
   "display_name": "Python 3 (ipykernel)",
   "language": "python",
   "name": "python3"
  },
  "language_info": {
   "codemirror_mode": {
    "name": "ipython",
    "version": 3
   },
   "file_extension": ".py",
   "mimetype": "text/x-python",
   "name": "python",
   "nbconvert_exporter": "python",
   "pygments_lexer": "ipython3",
   "version": "3.10.6"
  }
 },
 "nbformat": 4,
 "nbformat_minor": 5
}
