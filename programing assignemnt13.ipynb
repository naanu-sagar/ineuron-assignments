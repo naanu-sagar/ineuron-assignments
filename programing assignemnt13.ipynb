{
 "cells": [
  {
   "cell_type": "code",
   "execution_count": 4,
   "id": "67fa6faf-af58-48b7-b983-42403dc9b50e",
   "metadata": {},
   "outputs": [
    {
     "name": "stdout",
     "output_type": "stream",
     "text": [
      "['100', '150', '180']\n",
      "18.257418583505537\n",
      "22.360679774997898\n",
      "24.49489742783178\n"
     ]
    }
   ],
   "source": [
    "#question1\n",
    "import math\n",
    "def sol(d):\n",
    "    l=d.split(\",\")\n",
    "    print(l)\n",
    "    c=50\n",
    "    h=30\n",
    "    for i in l:\n",
    "        \n",
    "        q=math.sqrt((2*c*int(i))/h)\n",
    "        print(q)\n",
    "        \n",
    "sol(\"100,150,180\")        "
   ]
  },
  {
   "cell_type": "code",
   "execution_count": 18,
   "id": "ea4c0e00-4577-4437-b5b6-66ddba9cc85f",
   "metadata": {},
   "outputs": [
    {
     "data": {
      "text/plain": [
       "[[0, 0, 0, 0, 0], [0, 1, 2, 3, 4], [0, 2, 4, 6, 8]]"
      ]
     },
     "execution_count": 18,
     "metadata": {},
     "output_type": "execute_result"
    }
   ],
   "source": [
    "#question2\n",
    "def arr(x,y):\n",
    "    l=[]\n",
    "    \n",
    "    for i in range(0,x):\n",
    "        p=[]\n",
    "        for j in range(0,y):\n",
    "            p.append(i*j)\n",
    "        l.append(p)\n",
    "          \n",
    "    return l        \n",
    "arr(3,5)            \n",
    "            "
   ]
  },
  {
   "cell_type": "code",
   "execution_count": 22,
   "id": "54331fc0-a437-42c9-ab0f-961375f604e1",
   "metadata": {},
   "outputs": [
    {
     "data": {
      "text/plain": [
       "'bag,hello,without,world'"
      ]
     },
     "execution_count": 22,
     "metadata": {},
     "output_type": "execute_result"
    }
   ],
   "source": [
    "#question3\n",
    "def sor(x):\n",
    "    l=x.split(\",\")\n",
    "    l.sort()\n",
    "    mystr=\",\".join(l)\n",
    "    \n",
    "    return mystr\n",
    "sor(\"without,hello,bag,world\")    "
   ]
  },
  {
   "cell_type": "code",
   "execution_count": 27,
   "id": "8ccf4c9e-7ade-4da4-9f96-ecd13288510c",
   "metadata": {},
   "outputs": [
    {
     "data": {
      "text/plain": [
       "'again and hello makes perfect practice world'"
      ]
     },
     "execution_count": 27,
     "metadata": {},
     "output_type": "execute_result"
    }
   ],
   "source": [
    "#question4\n",
    "def sor(x):\n",
    "\n",
    "    p=set(x.split(\" \"))\n",
    "    l=list(p)\n",
    "    l.sort()\n",
    "    mystr=\" \".join(l)\n",
    "    \n",
    "    return mystr\n",
    "sor(\"hello world and practice makes perfect and hello world again\")    "
   ]
  },
  {
   "cell_type": "code",
   "execution_count": 36,
   "id": "9bae1aaa-59b3-4e56-94b2-e880b8becce6",
   "metadata": {},
   "outputs": [
    {
     "name": "stdin",
     "output_type": "stream",
     "text": [
      "enter a string hello world! 123\n"
     ]
    },
    {
     "name": "stdout",
     "output_type": "stream",
     "text": [
      "Letters 10\n",
      "Digit 3\n"
     ]
    }
   ],
   "source": [
    "#question5\n",
    "s=input(\"enter a string\")\n",
    "d=l=0\n",
    "\n",
    "for i in s:\n",
    "    if i.isdigit():\n",
    "        d=d+1\n",
    "    elif i.isalpha():\n",
    "        l=l+1\n",
    "    else:\n",
    "        pass\n",
    "print(\"Letters\", l)\n",
    "print(\"Digit\" , d)"
   ]
  },
  {
   "cell_type": "code",
   "execution_count": 7,
   "id": "38267571-0f87-41f3-bc49-b24e8cb2d2e9",
   "metadata": {},
   "outputs": [
    {
     "name": "stdin",
     "output_type": "stream",
     "text": [
      "Enter a password 2We3345\n"
     ]
    },
    {
     "name": "stdout",
     "output_type": "stream",
     "text": [
      "invalid\n"
     ]
    }
   ],
   "source": [
    "#question6\n",
    "import re\n",
    "p=input(\"Enter a password\")\n",
    "if len(p)>=6 and len(p)<=12 and re.search(\"[a-z]\",p) and re.search(\"[A-Z]\",p) and re.search(\"[0-9]\",p)and re.search(\"[$#@]\",p):\n",
    "    print(\"valid password\")\n",
    "else:\n",
    "    print(\"invalid\")"
   ]
  },
  {
   "cell_type": "code",
   "execution_count": null,
   "id": "65e0b11e-d0ee-4596-b7c7-6f78292c276c",
   "metadata": {},
   "outputs": [],
   "source": []
  }
 ],
 "metadata": {
  "kernelspec": {
   "display_name": "Python 3 (ipykernel)",
   "language": "python",
   "name": "python3"
  },
  "language_info": {
   "codemirror_mode": {
    "name": "ipython",
    "version": 3
   },
   "file_extension": ".py",
   "mimetype": "text/x-python",
   "name": "python",
   "nbconvert_exporter": "python",
   "pygments_lexer": "ipython3",
   "version": "3.10.6"
  }
 },
 "nbformat": 4,
 "nbformat_minor": 5
}
