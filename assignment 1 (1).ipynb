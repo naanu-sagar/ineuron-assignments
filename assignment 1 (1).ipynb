{
 "cells": [
  {
   "cell_type": "raw",
   "id": "6d9c3f30-d245-41ea-a546-ae77f9afdae9",
   "metadata": {},
   "source": [
    "# question 1 \n",
    "* -> expression\n",
    "'hello' -> string\n",
    "-87.8 -> float\n",
    "-,+,/ -> expression\n",
    "6 -> integer\n"
   ]
  },
  {
   "cell_type": "raw",
   "id": "05746143-f4ac-430f-abee-d9c587b9c621",
   "metadata": {},
   "source": [
    "# question 2\n",
    "A Variable is a store of information, and a String is a type of information you would store in a Variable"
   ]
  },
  {
   "cell_type": "raw",
   "id": "4e4ba720-9ed6-457b-a19c-a404390b36f8",
   "metadata": {},
   "source": [
    "# question 3\n",
    "int -> datatype that consist of only intergers\n",
    "bool -> datatype that consist of true or false only\n",
    "str -> datatype that are sequences of character data."
   ]
  },
  {
   "cell_type": "raw",
   "id": "d27c7535-8147-4b60-b563-9cded9acc4b6",
   "metadata": {},
   "source": [
    "# question 4\n",
    "An expression in Python is a combination of operators and operands\n",
    "Arithmetic expressions -> used to perform arithmetic operations \n",
    "Relational expressions. -> used to perform Relational operations\n",
    "Logical expressions. -> used to perform Logical operations based on logic\n",
    "Conditional expressions. ->used to perform Conditional operations"
   ]
  },
  {
   "cell_type": "raw",
   "id": "0149c54b-df6a-4d6f-9a53-eb489d94f633",
   "metadata": {},
   "source": [
    "# question 5\n",
    "Statements Do Something and are often composed of expressions\n"
   ]
  },
  {
   "cell_type": "raw",
   "id": "c740b590-39cd-455f-8c50-9b71ba79db8c",
   "metadata": {},
   "source": [
    "# question 6\n",
    "22"
   ]
  },
  {
   "cell_type": "raw",
   "id": "2a2ebe1b-8dec-4f9e-b051-451871a86d84",
   "metadata": {},
   "source": [
    "# question 7\n",
    "'spamspamspam'"
   ]
  },
  {
   "cell_type": "raw",
   "id": "92322c9c-5dac-4cf0-ab6e-d0516ac53396",
   "metadata": {},
   "source": [
    "# question 7\n",
    "variable name cannot be just numaric"
   ]
  },
  {
   "cell_type": "raw",
   "id": "610f6720-3a9e-4e65-8354-93545019733f",
   "metadata": {},
   "source": [
    "# question 8\n",
    "int(),float(),str()"
   ]
  },
  {
   "cell_type": "raw",
   "id": "38f4a5c9-acb9-4ee1-a208-62579edc3146",
   "metadata": {},
   "source": [
    "# question 9\n",
    "beacuse we are trying to concatinate string to integer \n",
    "to fix it\n",
    "'I have eaten' + str(99)+ 'burritos.'\n"
   ]
  }
 ],
 "metadata": {
  "kernelspec": {
   "display_name": "Python 3 (ipykernel)",
   "language": "python",
   "name": "python3"
  },
  "language_info": {
   "codemirror_mode": {
    "name": "ipython",
    "version": 3
   },
   "file_extension": ".py",
   "mimetype": "text/x-python",
   "name": "python",
   "nbconvert_exporter": "python",
   "pygments_lexer": "ipython3",
   "version": "3.10.6"
  }
 },
 "nbformat": 4,
 "nbformat_minor": 5
}
